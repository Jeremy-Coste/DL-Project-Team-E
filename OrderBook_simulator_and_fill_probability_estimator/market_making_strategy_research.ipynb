{
 "cells": [
  {
   "cell_type": "markdown",
   "metadata": {},
   "source": [
    "Proposed Trading Strategy\n",
    "-----\n",
    "-  We place bids and asks at ALL times on levels 2, 3, 4, and 5. \n",
    "-  We place the orders above in an effort to gain valuable queue positions on our level 2-bid/ask orders.\n",
    "-  When our queue position on our level 2 bid or ask orders reaches the top X% of the queue (X set to like 5% or 10%) we activate our strategy for the given direction.\n",
    "-  Only when our strategy is active do we place any level 1 orders.\n",
    "-  Now of course it is impossible to know the relative queue position in practice but it can be estimated fairly accurately, so here we will use the actual queue position (or add in some noise if desired).\n",
    "-  Once our strategy is active, we look at our RNN predictions for next_midprice_move.\n",
    "-  Given a positive (negative) price move signal, we place a limit buy (sell) order on the level 1 ask (bid). This order is immediately executed (as it is in a sense a market order).\n",
    "-  We then wait until the midprice spread changes. If we predict the movement correctly, with high probability, we will make the spread once our level 2 order is filled. \n",
    "-  When we predict incorrectly, to avoid further loss, we close our position and in most cases lose double the spread.\n",
    "-  We continue to repeat this process.\n"
   ]
  },
  {
   "cell_type": "code",
   "execution_count": 1,
   "metadata": {},
   "outputs": [],
   "source": [
    "import pandas as pd\n",
    "import numpy as np\n",
    "import os\n",
    "import math\n",
    "import sys\n",
    "from matplotlib import pyplot as plt\n",
    "from pylab import rcParams\n",
    "rcParams['figure.figsize'] = 10, 10\n",
    "sys.path.insert(0, os.path.join(os.getcwd(), 'code'))\n",
    "\n",
    "import OrderBook as ob\n",
    "import OrderUtil as ou\n",
    "import TradingStrategySimulator as tss\n"
   ]
  },
  {
   "cell_type": "code",
   "execution_count": 2,
   "metadata": {},
   "outputs": [],
   "source": [
    "#load in intc OrderBook data\n",
    "book = ob.OrderBook(message_filename='INTC_message.csv', orderbook_filename='INTC_OrderBook.csv')"
   ]
  },
  {
   "cell_type": "markdown",
   "metadata": {},
   "source": [
    "Perfectly Accurate Model\n",
    "--------\n",
    "Here we use an ideal 100% accurate model to see whether or not our strategy can be profitable"
   ]
  },
  {
   "cell_type": "code",
   "execution_count": 3,
   "metadata": {},
   "outputs": [
    {
     "name": "stdout",
     "output_type": "stream",
     "text": [
      "1.0\n",
      "Current time:        37000.012826949\n",
      "Current pnl: 0.0\n",
      "Current time:        37496.807132705\n",
      "Current pnl: 0.0\n",
      "market sell at 273000\n",
      "limit bid executed at 272900\n",
      "market sell at 272900\n",
      "limit bid executed at 272800\n",
      "market buy at 273300\n",
      "limit ask executed at 273400\n",
      "market buy at 273400\n",
      "limit ask executed at 273500\n",
      "market buy at 273500\n",
      "limit ask executed at 273600\n",
      "market buy at 273600\n",
      "limit ask executed at 273700\n",
      "market buy at 273700\n",
      "limit ask executed at 273800\n",
      "Current time:        38015.006603805\n",
      "Current pnl: 700.0\n",
      "market buy at 273800\n",
      "limit ask executed at 273900\n",
      "market buy at 273900\n",
      "limit ask executed at 274000\n",
      "market buy at 274000\n",
      "limit ask executed at 274100\n",
      "market buy at 274100\n",
      "limit ask executed at 274200\n",
      "market buy at 274200\n",
      "limit ask executed at 274300\n",
      "market buy at 274300\n",
      "Current time:        38672.650771977\n",
      "Current pnl: 1150.0\n",
      "limit ask executed at 274400\n",
      "market buy at 274400\n",
      "limit ask executed at 274500\n",
      "market buy at 274500\n",
      "limit ask executed at 274600\n",
      "market buy at 274600\n",
      "limit ask executed at 274700\n",
      "market buy at 274700\n",
      "limit ask executed at 274800\n",
      "market buy at 274800\n",
      "limit ask executed at 274900\n",
      "market sell at 274400\n",
      "limit bid executed at 274300\n",
      "Current time:        39349.273592511\n",
      "Current pnl: 1900.0\n",
      "limit bid executed at 274200\n",
      "market sell at 274200\n",
      "limit bid executed at 274100\n",
      "market sell at 274100\n",
      "limit bid executed at 274000\n",
      "market sell at 274000\n",
      "limit bid executed at 273900\n",
      "market sell at 273900\n",
      "limit bid executed at 273800\n",
      "market sell at 273800\n",
      "limit bid executed at 273700\n",
      "market sell at 273700\n",
      "Current time:        39742.89115499\n",
      "Current pnl: 2350.0\n",
      "limit bid executed at 273600\n",
      "market sell at 273600\n",
      "limit bid executed at 273500\n",
      "market sell at 273500\n",
      "limit bid executed at 273400\n",
      "market sell at 273400\n",
      "limit bid executed at 273300\n",
      "market sell at 273300\n",
      "limit bid executed at 273200\n",
      "market sell at 273200\n",
      "limit bid executed at 273100\n"
     ]
    }
   ],
   "source": [
    "strat = {1: ([2, 3, 4, 5], [2, 3, 4, 5]),\n",
    "         -1 : ([2, 3, 4, 5], [2, 3, 4, 5])}\n",
    "midprice_df = book.get_midprice_data(numupdates=1, t_start=37000, t_end=40000, tick_size=100, next_move=True)\n",
    "midprice_df.dropna(inplace=True)\n",
    "\n",
    "backtester = tss.StrategyLossEstimation(book=book, midprice_df=midprice_df, mkt_order_on_move_predictions=True,\n",
    "                                              strategy=strat,\n",
    "                                              max_exposure_dict={1:0, -1:0}, relative_queue=0.25, \n",
    "                                              set_edge_queue=0.25, accuracy_rate=1, tick_size=100, queue_tol=0.5)\n",
    "backtester.run_strategy_simulation()"
   ]
  },
  {
   "cell_type": "code",
   "execution_count": 4,
   "metadata": {},
   "outputs": [
    {
     "data": {
      "image/png": "[encoded data removed]",
      "text/plain": [
       "<matplotlib.figure.Figure at 0x1172a7cc0>"
      ]
     },
     "metadata": {},
     "output_type": "display_data"
    }
   ],
   "source": [
    "pnls = backtester._strategy_simulator.get_pnl_series()\n",
    "pnls.cumsum().plot()\n",
    "plt.show()"
   ]
  },
  {
   "cell_type": "markdown",
   "metadata": {},
   "source": [
    "70% Accuracy\n",
    "---------\n",
    "Here we test a hypothetical model that has an average of 70% out of sample accuracy"
   ]
  },
  {
   "cell_type": "code",
   "execution_count": 5,
   "metadata": {},
   "outputs": [
    {
     "name": "stdout",
     "output_type": "stream",
     "text": [
      "0.7011394292205027\n",
      "Current time:        37000.012826949\n",
      "Current pnl: 0.0\n",
      "market sell at 273000\n",
      "Current time:        37496.807132705\n",
      "Current pnl: -200.0\n",
      "market sell at 273000\n",
      "limit bid executed at 272900\n",
      "market sell at 272900\n",
      "limit bid executed at 272800\n",
      "market buy at 273300\n",
      "limit ask executed at 273400\n",
      "market buy at 273400\n",
      "limit ask executed at 273500\n",
      "market buy at 273500\n",
      "market buy at 273500\n",
      "limit ask executed at 273600\n",
      "market buy at 273600\n",
      "limit ask executed at 273700\n",
      "market buy at 273700\n",
      "limit ask executed at 273800\n",
      "Current time:        38015.006603805\n",
      "Current pnl: 300.0\n",
      "market buy at 273800\n",
      "limit ask executed at 273900\n",
      "market buy at 273900\n",
      "market sell at 273400\n",
      "market buy at 273900\n",
      "limit ask executed at 274000\n",
      "market buy at 274000\n",
      "limit ask executed at 274100\n",
      "market buy at 274100\n",
      "limit ask executed at 274200\n",
      "market buy at 274200\n",
      "limit ask executed at 274300\n",
      "market buy at 274300\n",
      "Current time:        38672.650771977\n",
      "Current pnl: 350.0\n",
      "limit ask executed at 274400\n",
      "market buy at 274400\n",
      "limit ask executed at 274500\n",
      "market buy at 274500\n",
      "limit ask executed at 274600\n",
      "market buy at 274600\n",
      "market buy at 274600\n",
      "limit ask executed at 274700\n",
      "market buy at 274700\n",
      "limit ask executed at 274800\n",
      "market buy at 274800\n",
      "limit ask executed at 274900\n",
      "market buy at 274900\n",
      "market sell at 274400\n",
      "limit bid executed at 274300\n",
      "Current time:        39349.273592511\n",
      "Current pnl: 700.0\n",
      "limit bid executed at 274200\n",
      "market sell at 274200\n",
      "limit bid executed at 274100\n",
      "market sell at 274100\n",
      "market sell at 274100\n",
      "limit bid executed at 274000\n",
      "market sell at 274000\n",
      "limit bid executed at 273900\n",
      "market sell at 273900\n",
      "limit bid executed at 273800\n",
      "market sell at 273800\n",
      "limit bid executed at 273700\n",
      "market sell at 273700\n",
      "Current time:        39742.89115499\n",
      "Current pnl: 950.0\n",
      "limit bid executed at 273600\n",
      "market sell at 273600\n",
      "limit bid executed at 273500\n",
      "market sell at 273500\n",
      "limit bid executed at 273400\n",
      "market sell at 273400\n",
      "market sell at 273400\n",
      "market sell at 273400\n",
      "limit bid executed at 273300\n",
      "market sell at 273300\n",
      "limit bid executed at 273200\n",
      "market sell at 273200\n",
      "limit bid executed at 273100\n"
     ]
    }
   ],
   "source": [
    "strat = {1: ([2, 3, 4, 5], [2, 3, 4, 5]),\n",
    "         -1 : ([2, 3, 4, 5], [2, 3, 4, 5])}\n",
    "midprice_df = book.get_midprice_data(numupdates=1, t_start=37000, t_end=40000, tick_size=100, next_move=True)\n",
    "midprice_df.dropna(inplace=True)\n",
    "backtester = tss.StrategyLossEstimation(book=book, midprice_df=midprice_df, mkt_order_on_move_predictions=True,\n",
    "                                        strategy=strat,\n",
    "                                        max_exposure_dict={1:0, -1:0}, relative_queue=0.25, \n",
    "                                        set_edge_queue=0.25, accuracy_rate=0.7, tick_size=100, queue_tol=0.5)\n",
    "backtester.run_strategy_simulation()"
   ]
  },
  {
   "cell_type": "code",
   "execution_count": 6,
   "metadata": {},
   "outputs": [
    {
     "data": {
      "image/png": "[encoded data removed]",
      "text/plain": [
       "<matplotlib.figure.Figure at 0x10f726470>"
      ]
     },
     "metadata": {},
     "output_type": "display_data"
    }
   ],
   "source": [
    "pnls = backtester._strategy_simulator.get_pnl_series()\n",
    "pnls.cumsum().plot()\n",
    "plt.title('PNL for 70% accuracy from epoch 37000 to 40000')\n",
    "plt.show()"
   ]
  },
  {
   "cell_type": "code",
   "execution_count": null,
   "metadata": {
    "collapsed": true
   },
   "outputs": [],
   "source": []
  }
 ],
 "metadata": {
  "kernelspec": {
   "display_name": "Python 3",
   "language": "python",
   "name": "python3"
  },
  "language_info": {
   "codemirror_mode": {
    "name": "ipython",
    "version": 3
   },
   "file_extension": ".py",
   "mimetype": "text/x-python",
   "name": "python",
   "nbconvert_exporter": "python",
   "pygments_lexer": "ipython3",
   "version": "3.6.3"
  }
 },
 "nbformat": 4,
 "nbformat_minor": 2
}
