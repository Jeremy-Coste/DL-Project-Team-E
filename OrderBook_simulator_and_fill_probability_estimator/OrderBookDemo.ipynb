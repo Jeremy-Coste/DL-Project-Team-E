{
 "cells": [
  {
   "cell_type": "markdown",
   "metadata": {},
   "source": [
    "OrderBook Demo\n",
    "-------------\n",
    "\n",
    "Examples of placing orders and basic fill probability estimation"
   ]
  },
  {
   "cell_type": "code",
   "execution_count": 1,
   "metadata": {
    "collapsed": true
   },
   "outputs": [],
   "source": [
    "#Mosie Schrem\n",
    "import pandas as pd\n",
    "import numpy as np\n",
    "import os\n",
    "import math\n",
    "import sys\n",
    "sys.path.insert(0, os.path.join(os.getcwd(), 'code'))\n",
    "import OrderBook as ob\n",
    "import OrderUtil as ou\n",
    "import FillProbabilitySimulator as fps"
   ]
  },
  {
   "cell_type": "markdown",
   "metadata": {},
   "source": [
    "Examples of creating and processing orders:\n",
    "--------"
   ]
  },
  {
   "cell_type": "code",
   "execution_count": 2,
   "metadata": {
    "collapsed": true
   },
   "outputs": [],
   "source": [
    "#load in intc OrderBook data\n",
    "book = ob.OrderBook(message_filename='INTC_message.csv', orderbook_filename='INTC_OrderBook.csv')"
   ]
  },
  {
   "cell_type": "markdown",
   "metadata": {},
   "source": [
    "Create an ask order at level 2, at time 38000, reevaluating order status at every BookUpdate "
   ]
  },
  {
   "cell_type": "code",
   "execution_count": 3,
   "metadata": {},
   "outputs": [
    {
     "name": "stdout",
     "output_type": "stream",
     "text": [
      "{'price': 273800, 'start_time': 38000, 'is_buy': False, 'orderstate': 'open', 'level': 2, 'start_index': 131939}\n"
     ]
    }
   ],
   "source": [
    "order = ou.BookUpdatesOrder(orderbook=book, numupdates=1, timestamp=38000, level=2, is_buy=False)\n",
    "print(order.get_opening_stats())"
   ]
  },
  {
   "cell_type": "code",
   "execution_count": 4,
   "metadata": {},
   "outputs": [
    {
     "name": "stdout",
     "output_type": "stream",
     "text": [
      "{'price': 273800, 'time': 38014.459199206, 'is_buy': False, 'orderstate': 'open', 'level': 2, 'end_index': 132039, 'price_delta': 0}\n"
     ]
    }
   ],
   "source": [
    "#process 100 updates to orderbook\n",
    "for i in range(100):\n",
    "    order.update()\n",
    "print(order.get_current_stats())"
   ]
  },
  {
   "cell_type": "code",
   "execution_count": 5,
   "metadata": {},
   "outputs": [
    {
     "name": "stdout",
     "output_type": "stream",
     "text": [
      "{'price': 273800, 'time': 38015.006473335, 'is_buy': False, 'orderstate': 'open', 'level': 2, 'end_index': 132339, 'price_delta': 0}\n"
     ]
    }
   ],
   "source": [
    "#process another 300 updates\n",
    "for i in range(300):\n",
    "    order.update()\n",
    "print(order.get_current_stats())"
   ]
  },
  {
   "cell_type": "code",
   "execution_count": 6,
   "metadata": {},
   "outputs": [
    {
     "name": "stdout",
     "output_type": "stream",
     "text": [
      "{'price': 273800, 'time': 38167.621597535, 'is_buy': False, 'orderstate': 'executed', 'level': 1, 'end_index': 134171, 'price_delta': 0}\n"
     ]
    }
   ],
   "source": [
    "#process until executed or cancelled\n",
    "while(order.order_type('open')):\n",
    "    order.update()\n",
    "    \n",
    "#print stats at time when order was executed\n",
    "print(order.get_closing_stats())"
   ]
  },
  {
   "cell_type": "markdown",
   "metadata": {},
   "source": [
    "We can also create orders by timestep of fixed size\n",
    "\n",
    "Create an ask order at level 2, at time 38000, reevaluating order status every 0.5 seconds"
   ]
  },
  {
   "cell_type": "code",
   "execution_count": 7,
   "metadata": {},
   "outputs": [
    {
     "name": "stdout",
     "output_type": "stream",
     "text": [
      "{'price': 273800, 'start_time': 38000, 'is_buy': False, 'orderstate': 'open', 'level': 2, 'start_index': 131939}\n"
     ]
    }
   ],
   "source": [
    "order = ou.TimeOrder(orderbook=book, delta_t=0.5, timestamp=38000, level=2, is_buy=False)\n",
    "print(order.get_opening_stats())"
   ]
  },
  {
   "cell_type": "code",
   "execution_count": 8,
   "metadata": {},
   "outputs": [
    {
     "name": "stdout",
     "output_type": "stream",
     "text": [
      "{'price': 273800, 'time': 38049.987429576, 'is_buy': False, 'orderstate': 'open', 'level': 3, 'end_index': 132820, 'price_delta': 0}\n"
     ]
    }
   ],
   "source": [
    "#process 50 seconds of data\n",
    "for i in range(100):\n",
    "    order.update()\n",
    "print(order.get_current_stats())"
   ]
  },
  {
   "cell_type": "code",
   "execution_count": 9,
   "metadata": {},
   "outputs": [
    {
     "name": "stdout",
     "output_type": "stream",
     "text": [
      "{'price': 273800, 'time': 38167.621597535, 'is_buy': False, 'orderstate': 'executed', 'level': 1, 'end_index': 134171, 'price_delta': 0}\n"
     ]
    }
   ],
   "source": [
    "#process until executed or cancelled\n",
    "while(order.order_type('open')):\n",
    "    order.update()\n",
    "#print stats at time when order was executed\n",
    "print(order.get_closing_stats())"
   ]
  },
  {
   "cell_type": "markdown",
   "metadata": {},
   "source": [
    "Fill Probability Simulation Examples:\n",
    "------"
   ]
  },
  {
   "cell_type": "markdown",
   "metadata": {},
   "source": [
    "In the following example, we quote our buy and sell order on inside market, and reevaluate every BookUpdate"
   ]
  },
  {
   "cell_type": "code",
   "execution_count": 10,
   "metadata": {},
   "outputs": [
    {
     "name": "stdout",
     "output_type": "stream",
     "text": [
      "samples processed so far: 1000.0\n",
      "samples processed so far: 2000.0\n",
      "samples processed so far: 3000.0\n",
      "samples processed so far: 4000.0\n",
      "samples processed so far: 5000.0\n",
      "samples processed so far: 6000.0\n",
      "samples processed so far: 7000.0\n",
      "samples processed so far: 8000.0\n",
      "samples processed so far: 9000.0\n",
      "samples processed so far: 10000.0\n"
     ]
    }
   ],
   "source": [
    "probability_simulator = fps.FillProbabilitySimulator(numupdates=1, order_tuple=(1 , 1),\n",
    "                                                     orderbook=book, t_start=34200.01, t_end=50000)\n",
    "\n",
    "probability_simulator.generate_matrix(num_samples=10000)"
   ]
  },
  {
   "cell_type": "markdown",
   "metadata": {},
   "source": [
    "Display empirical fill probabilities for given midprice movement -1, 0, and 1"
   ]
  },
  {
   "cell_type": "code",
   "execution_count": 11,
   "metadata": {},
   "outputs": [
    {
     "name": "stdout",
     "output_type": "stream",
     "text": [
      "                   -1         0         1\n",
      "none         0.552632  0.989007  0.425532\n",
      "bid          0.447368  0.007060  0.000000\n",
      "ask          0.000000  0.003933  0.574468\n",
      "bid_and_ask  0.000000  0.000000  0.000000\n"
     ]
    }
   ],
   "source": [
    "fill_matrix = probability_simulator.get_prob_matrix()\n",
    "print(fill_matrix)"
   ]
  },
  {
   "cell_type": "markdown",
   "metadata": {},
   "source": [
    "Display frequencies of midprice movements in our sample"
   ]
  },
  {
   "cell_type": "code",
   "execution_count": 12,
   "metadata": {},
   "outputs": [
    {
     "name": "stdout",
     "output_type": "stream",
     "text": [
      "{-1: 38, 0: 9915, 1: 47}\n"
     ]
    }
   ],
   "source": [
    "print(probability_simulator.get_quantities())"
   ]
  },
  {
   "cell_type": "markdown",
   "metadata": {},
   "source": [
    "In the following example, we quote our buy and sell order on inside market, and reevaluate every 100 BookUpdates"
   ]
  },
  {
   "cell_type": "code",
   "execution_count": 13,
   "metadata": {},
   "outputs": [
    {
     "name": "stdout",
     "output_type": "stream",
     "text": [
      "samples processed so far: 1000.0\n",
      "samples processed so far: 2000.0\n",
      "samples processed so far: 3000.0\n",
      "samples processed so far: 4000.0\n",
      "samples processed so far: 5000.0\n",
      "samples processed so far: 6000.0\n",
      "samples processed so far: 7000.0\n",
      "samples processed so far: 8000.0\n",
      "samples processed so far: 9000.0\n",
      "samples processed so far: 10000.0\n"
     ]
    }
   ],
   "source": [
    "probability_simulator = fps.FillProbabilitySimulator(numupdates=100, order_tuple=(1 , 1),\n",
    "                                                     orderbook=book, t_start=34200.01, t_end=50000)\n",
    "\n",
    "probability_simulator.generate_matrix(num_samples=10000)"
   ]
  },
  {
   "cell_type": "markdown",
   "metadata": {},
   "source": [
    "Display empirical fill probabilities for given midprice movement -1, 0, and 1"
   ]
  },
  {
   "cell_type": "code",
   "execution_count": 14,
   "metadata": {},
   "outputs": [
    {
     "name": "stdout",
     "output_type": "stream",
     "text": [
      "                   -1         0         1\n",
      "none         0.344209  0.641853  0.342804\n",
      "bid          0.587276  0.190920  0.009883\n",
      "ask          0.020120  0.145216  0.626930\n",
      "bid_and_ask  0.048396  0.022012  0.020383\n"
     ]
    }
   ],
   "source": [
    "fill_matrix = probability_simulator.get_prob_matrix()\n",
    "print(fill_matrix)"
   ]
  },
  {
   "cell_type": "markdown",
   "metadata": {},
   "source": [
    "Display frequencies of midprice movements in our sample"
   ]
  },
  {
   "cell_type": "code",
   "execution_count": 15,
   "metadata": {},
   "outputs": [
    {
     "name": "stdout",
     "output_type": "stream",
     "text": [
      "{-1: 1839, 0: 6542, 1: 1619}\n"
     ]
    }
   ],
   "source": [
    "print(probability_simulator.get_quantities())"
   ]
  },
  {
   "cell_type": "markdown",
   "metadata": {},
   "source": [
    "In the next example we reevaluate our orders every second"
   ]
  },
  {
   "cell_type": "code",
   "execution_count": 16,
   "metadata": {},
   "outputs": [
    {
     "name": "stdout",
     "output_type": "stream",
     "text": [
      "samples processed so far: 1000.0\n",
      "samples processed so far: 2000.0\n",
      "samples processed so far: 3000.0\n",
      "samples processed so far: 4000.0\n",
      "samples processed so far: 5000.0\n",
      "samples processed so far: 6000.0\n",
      "samples processed so far: 7000.0\n",
      "samples processed so far: 8000.0\n",
      "samples processed so far: 9000.0\n",
      "samples processed so far: 10000.0\n"
     ]
    }
   ],
   "source": [
    "probability_simulator = fps.FillProbabilitySimulator(timeunit=1, order_tuple=(1 , 1),\n",
    "                                                     orderbook=book, t_start=34200.01, t_end=50000)\n",
    "probability_simulator.generate_matrix(num_samples=10000)"
   ]
  },
  {
   "cell_type": "markdown",
   "metadata": {},
   "source": [
    "Display empirical fill probabilities for given midprice movement -1, 0, and 1"
   ]
  },
  {
   "cell_type": "code",
   "execution_count": 17,
   "metadata": {},
   "outputs": [
    {
     "name": "stdout",
     "output_type": "stream",
     "text": [
      "                   -1         0         1\n",
      "none         0.757576  0.893887  0.738693\n",
      "bid          0.128788  0.059138  0.130653\n",
      "ask          0.083333  0.046031  0.090452\n",
      "bid_and_ask  0.030303  0.000944  0.040201\n"
     ]
    }
   ],
   "source": [
    "fill_matrix = probability_simulator.get_prob_matrix()\n",
    "print(fill_matrix)"
   ]
  },
  {
   "cell_type": "code",
   "execution_count": 18,
   "metadata": {},
   "outputs": [
    {
     "name": "stdout",
     "output_type": "stream",
     "text": [
      "{-1: 264, 0: 9537, 1: 199}\n"
     ]
    }
   ],
   "source": [
    "print(probability_simulator.get_quantities())"
   ]
  }
 ],
 "metadata": {
  "kernelspec": {
   "display_name": "Python 3",
   "language": "python",
   "name": "python3"
  },
  "language_info": {
   "codemirror_mode": {
    "name": "ipython",
    "version": 3
   },
   "file_extension": ".py",
   "mimetype": "text/x-python",
   "name": "python",
   "nbconvert_exporter": "python",
   "pygments_lexer": "ipython3",
   "version": "3.6.3"
  }
 },
 "nbformat": 4,
 "nbformat_minor": 2
}
