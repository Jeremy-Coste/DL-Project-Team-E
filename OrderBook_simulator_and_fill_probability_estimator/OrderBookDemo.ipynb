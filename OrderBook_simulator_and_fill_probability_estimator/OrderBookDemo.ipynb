{
 "cells": [
  {
   "cell_type": "markdown",
   "metadata": {},
   "source": [
    "OrderBook Demo\n",
    "-------------\n",
    "\n",
    "Examples of placing orders, fill probability estimation, and simple strategy backtests"
   ]
  },
  {
   "cell_type": "code",
   "execution_count": 1,
   "metadata": {
    "collapsed": true
   },
   "outputs": [],
   "source": [
    "#Mosie Schrem\n",
    "import pandas as pd\n",
    "import numpy as np\n",
    "import os\n",
    "import math\n",
    "import sys\n",
    "from matplotlib import pyplot as plt\n",
    "from pylab import rcParams\n",
    "rcParams['figure.figsize'] = 10, 10\n",
    "sys.path.insert(0, os.path.join(os.getcwd(), 'code'))\n",
    "\n",
    "import OrderBook as ob\n",
    "import OrderUtil as ou\n",
    "import FillProbabilitySimulator as fps\n",
    "import TradingStrategySimulator as tss"
   ]
  },
  {
   "cell_type": "markdown",
   "metadata": {},
   "source": [
    "Examples of creating and processing orders:\n",
    "--------"
   ]
  },
  {
   "cell_type": "code",
   "execution_count": 2,
   "metadata": {
    "collapsed": true
   },
   "outputs": [],
   "source": [
    "#load in intc OrderBook data\n",
    "book = ob.OrderBook(message_filename='INTC_message.csv', orderbook_filename='INTC_OrderBook.csv')"
   ]
  },
  {
   "cell_type": "markdown",
   "metadata": {},
   "source": [
    "Create an ask order at level 2, at time 38000, reevaluating order status at every BookUpdate "
   ]
  },
  {
   "cell_type": "code",
   "execution_count": 3,
   "metadata": {},
   "outputs": [
    {
     "name": "stdout",
     "output_type": "stream",
     "text": [
      "{'price': 273800, 'start_time': 38000, 'is_buy': False, 'orderstate': 'open', 'level': 2, 'start_index': 131939}\n"
     ]
    }
   ],
   "source": [
    "order = ou.BookUpdatesOrder(orderbook=book, numupdates=1, timestamp=38000, level=2, is_buy=False)\n",
    "print(order.get_opening_stats())"
   ]
  },
  {
   "cell_type": "code",
   "execution_count": 4,
   "metadata": {},
   "outputs": [
    {
     "name": "stdout",
     "output_type": "stream",
     "text": [
      "{'price': 273800, 'time': 38014.459199206, 'is_buy': False, 'orderstate': 'open', 'level': 2, 'current_index': 132039, 'price_delta': 0}\n"
     ]
    }
   ],
   "source": [
    "#process 100 updates to orderbook\n",
    "for i in range(100):\n",
    "    order.update()\n",
    "print(order.get_current_stats())"
   ]
  },
  {
   "cell_type": "code",
   "execution_count": 5,
   "metadata": {},
   "outputs": [
    {
     "name": "stdout",
     "output_type": "stream",
     "text": [
      "{'price': 273800, 'time': 38015.006473335, 'is_buy': False, 'orderstate': 'open', 'level': 2, 'current_index': 132339, 'price_delta': 0}\n"
     ]
    }
   ],
   "source": [
    "#process another 300 updates\n",
    "for i in range(300):\n",
    "    order.update()\n",
    "print(order.get_current_stats())"
   ]
  },
  {
   "cell_type": "code",
   "execution_count": 6,
   "metadata": {},
   "outputs": [
    {
     "name": "stdout",
     "output_type": "stream",
     "text": [
      "{'price': 273800, 'time': 38167.621597535, 'is_buy': False, 'orderstate': 'executed', 'level': 1, 'end_index': 134171, 'price_delta': 0}\n"
     ]
    }
   ],
   "source": [
    "#process until executed or cancelled\n",
    "while(order.order_type('open')):\n",
    "    order.update()\n",
    "    \n",
    "#print stats at time when order was executed\n",
    "print(order.get_closing_stats())"
   ]
  },
  {
   "cell_type": "markdown",
   "metadata": {},
   "source": [
    "We can also create orders by timestep of fixed size\n",
    "\n",
    "Create an ask order at level 2, at time 38000, reevaluating order status every 0.5 seconds"
   ]
  },
  {
   "cell_type": "code",
   "execution_count": 7,
   "metadata": {},
   "outputs": [
    {
     "name": "stdout",
     "output_type": "stream",
     "text": [
      "{'price': 273800, 'start_time': 38000, 'is_buy': False, 'orderstate': 'open', 'level': 2, 'start_index': 131939}\n"
     ]
    }
   ],
   "source": [
    "order = ou.TimeOrder(orderbook=book, delta_t=0.5, timestamp=38000, level=2, is_buy=False)\n",
    "print(order.get_opening_stats())"
   ]
  },
  {
   "cell_type": "code",
   "execution_count": 8,
   "metadata": {},
   "outputs": [
    {
     "name": "stdout",
     "output_type": "stream",
     "text": [
      "{'price': 273800, 'time': 38049.987429576, 'is_buy': False, 'orderstate': 'open', 'level': 3, 'current_index': 132820, 'price_delta': 0}\n"
     ]
    }
   ],
   "source": [
    "#process 50 seconds of data\n",
    "for i in range(100):\n",
    "    order.update()\n",
    "print(order.get_current_stats())"
   ]
  },
  {
   "cell_type": "code",
   "execution_count": 9,
   "metadata": {},
   "outputs": [
    {
     "name": "stdout",
     "output_type": "stream",
     "text": [
      "{'price': 273800, 'time': 38167.621597535, 'is_buy': False, 'orderstate': 'executed', 'level': 1, 'end_index': 134171, 'price_delta': 0}\n"
     ]
    }
   ],
   "source": [
    "#process until executed or cancelled\n",
    "while(order.order_type('open')):\n",
    "    order.update()\n",
    "#print stats at time when order was executed\n",
    "print(order.get_closing_stats())"
   ]
  },
  {
   "cell_type": "markdown",
   "metadata": {},
   "source": [
    "Fill Probability Simulation Example:\n",
    "------"
   ]
  },
  {
   "cell_type": "markdown",
   "metadata": {},
   "source": [
    "In the following example, we quote buy and sell orders in the inside market, and reevaluate every 100 BookUpdates"
   ]
  },
  {
   "cell_type": "code",
   "execution_count": 10,
   "metadata": {},
   "outputs": [
    {
     "name": "stdout",
     "output_type": "stream",
     "text": [
      "samples processed so far: 1000.0\n",
      "samples processed so far: 2000.0\n",
      "samples processed so far: 3000.0\n",
      "samples processed so far: 4000.0\n",
      "samples processed so far: 5000.0\n",
      "samples processed so far: 6000.0\n",
      "samples processed so far: 7000.0\n",
      "samples processed so far: 8000.0\n",
      "samples processed so far: 9000.0\n",
      "samples processed so far: 10000.0\n"
     ]
    }
   ],
   "source": [
    "probability_simulator = fps.FillProbabilitySimulator(numupdates=100, order_tuple=([1] , [1]),\n",
    "                                                 orderbook=book, t_start=34200.01, t_end=50000)\n",
    "probability_simulator.generate_matrices(num_samples=10000)"
   ]
  },
  {
   "cell_type": "markdown",
   "metadata": {},
   "source": [
    "Display empirical fill probabilities for given midprice movement -1, 0, and 1\n",
    "\n",
    "Note that bid_level_i_ask_level_j refers to bid orders filled up to level i and ask orders filled up to level j\n",
    "bid_level_0 (ask_level_0) refers to no bids (asks) filled."
   ]
  },
  {
   "cell_type": "code",
   "execution_count": 11,
   "metadata": {},
   "outputs": [
    {
     "data": {
      "text/html": [
       "<div>\n",
       "<style>\n",
       "    .dataframe thead tr:only-child th {\n",
       "        text-align: right;\n",
       "    }\n",
       "\n",
       "    .dataframe thead th {\n",
       "        text-align: left;\n",
       "    }\n",
       "\n",
       "    .dataframe tbody tr th {\n",
       "        vertical-align: top;\n",
       "    }\n",
       "</style>\n",
       "<table border=\"1\" class=\"dataframe\">\n",
       "  <thead>\n",
       "    <tr style=\"text-align: right;\">\n",
       "      <th>y</th>\n",
       "      <th>-1</th>\n",
       "      <th>0</th>\n",
       "      <th>1</th>\n",
       "    </tr>\n",
       "    <tr>\n",
       "      <th>orders_executed</th>\n",
       "      <th></th>\n",
       "      <th></th>\n",
       "      <th></th>\n",
       "    </tr>\n",
       "  </thead>\n",
       "  <tbody>\n",
       "    <tr>\n",
       "      <th>bid_level_0_ask_level_0</th>\n",
       "      <td>0.351530</td>\n",
       "      <td>0.649865</td>\n",
       "      <td>0.337534</td>\n",
       "    </tr>\n",
       "    <tr>\n",
       "      <th>bid_level_0_ask_level_1</th>\n",
       "      <td>0.019196</td>\n",
       "      <td>0.138614</td>\n",
       "      <td>0.625263</td>\n",
       "    </tr>\n",
       "    <tr>\n",
       "      <th>bid_level_1_ask_level_0</th>\n",
       "      <td>0.582783</td>\n",
       "      <td>0.193819</td>\n",
       "      <td>0.012601</td>\n",
       "    </tr>\n",
       "    <tr>\n",
       "      <th>bid_level_1_ask_level_1</th>\n",
       "      <td>0.046491</td>\n",
       "      <td>0.017702</td>\n",
       "      <td>0.024602</td>\n",
       "    </tr>\n",
       "  </tbody>\n",
       "</table>\n",
       "</div>"
      ],
      "text/plain": [
       "y                              -1         0         1\n",
       "orders_executed                                      \n",
       "bid_level_0_ask_level_0  0.351530  0.649865  0.337534\n",
       "bid_level_0_ask_level_1  0.019196  0.138614  0.625263\n",
       "bid_level_1_ask_level_0  0.582783  0.193819  0.012601\n",
       "bid_level_1_ask_level_1  0.046491  0.017702  0.024602"
      ]
     },
     "execution_count": 11,
     "metadata": {},
     "output_type": "execute_result"
    }
   ],
   "source": [
    "fill_matrix = probability_simulator.get_prob_matrix()\n",
    "fill_matrix"
   ]
  },
  {
   "cell_type": "markdown",
   "metadata": {},
   "source": [
    "Display frequencies of midprice movements in our sample"
   ]
  },
  {
   "cell_type": "code",
   "execution_count": 12,
   "metadata": {},
   "outputs": [
    {
     "name": "stdout",
     "output_type": "stream",
     "text": [
      "{-1: 3334, 0: 3333, 1: 3333}\n"
     ]
    }
   ],
   "source": [
    "print(probability_simulator.get_quantities())"
   ]
  },
  {
   "cell_type": "markdown",
   "metadata": {},
   "source": [
    "Here we display the cumulative distribution of our fill probability matrix"
   ]
  },
  {
   "cell_type": "code",
   "execution_count": 13,
   "metadata": {},
   "outputs": [
    {
     "data": {
      "text/html": [
       "<div>\n",
       "<style>\n",
       "    .dataframe thead tr:only-child th {\n",
       "        text-align: right;\n",
       "    }\n",
       "\n",
       "    .dataframe thead th {\n",
       "        text-align: left;\n",
       "    }\n",
       "\n",
       "    .dataframe tbody tr th {\n",
       "        vertical-align: top;\n",
       "    }\n",
       "</style>\n",
       "<table border=\"1\" class=\"dataframe\">\n",
       "  <thead>\n",
       "    <tr style=\"text-align: right;\">\n",
       "      <th>y</th>\n",
       "      <th>-1</th>\n",
       "      <th>0</th>\n",
       "      <th>1</th>\n",
       "    </tr>\n",
       "    <tr>\n",
       "      <th>orders_executed</th>\n",
       "      <th></th>\n",
       "      <th></th>\n",
       "      <th></th>\n",
       "    </tr>\n",
       "  </thead>\n",
       "  <tbody>\n",
       "    <tr>\n",
       "      <th>bid_level_0_ask_level_0</th>\n",
       "      <td>1.000000</td>\n",
       "      <td>1.000000</td>\n",
       "      <td>1.000000</td>\n",
       "    </tr>\n",
       "    <tr>\n",
       "      <th>bid_level_0_ask_level_1</th>\n",
       "      <td>0.065687</td>\n",
       "      <td>0.156316</td>\n",
       "      <td>0.649865</td>\n",
       "    </tr>\n",
       "    <tr>\n",
       "      <th>bid_level_1_ask_level_0</th>\n",
       "      <td>0.629274</td>\n",
       "      <td>0.211521</td>\n",
       "      <td>0.037204</td>\n",
       "    </tr>\n",
       "    <tr>\n",
       "      <th>bid_level_1_ask_level_1</th>\n",
       "      <td>0.046491</td>\n",
       "      <td>0.017702</td>\n",
       "      <td>0.024602</td>\n",
       "    </tr>\n",
       "  </tbody>\n",
       "</table>\n",
       "</div>"
      ],
      "text/plain": [
       "y                              -1         0         1\n",
       "orders_executed                                      \n",
       "bid_level_0_ask_level_0  1.000000  1.000000  1.000000\n",
       "bid_level_0_ask_level_1  0.065687  0.156316  0.649865\n",
       "bid_level_1_ask_level_0  0.629274  0.211521  0.037204\n",
       "bid_level_1_ask_level_1  0.046491  0.017702  0.024602"
      ]
     },
     "execution_count": 13,
     "metadata": {},
     "output_type": "execute_result"
    }
   ],
   "source": [
    "cum_mat = probability_simulator.get_cum_prob_matrix()\n",
    "cum_mat"
   ]
  },
  {
   "cell_type": "markdown",
   "metadata": {},
   "source": [
    "Display PNLs"
   ]
  },
  {
   "cell_type": "code",
   "execution_count": 14,
   "metadata": {},
   "outputs": [
    {
     "data": {
      "text/html": [
       "<div>\n",
       "<style>\n",
       "    .dataframe thead tr:only-child th {\n",
       "        text-align: right;\n",
       "    }\n",
       "\n",
       "    .dataframe thead th {\n",
       "        text-align: left;\n",
       "    }\n",
       "\n",
       "    .dataframe tbody tr th {\n",
       "        vertical-align: top;\n",
       "    }\n",
       "</style>\n",
       "<table border=\"1\" class=\"dataframe\">\n",
       "  <thead>\n",
       "    <tr style=\"text-align: right;\">\n",
       "      <th>y</th>\n",
       "      <th>-1</th>\n",
       "      <th>0</th>\n",
       "      <th>1</th>\n",
       "    </tr>\n",
       "    <tr>\n",
       "      <th>orders placed</th>\n",
       "      <th></th>\n",
       "      <th></th>\n",
       "      <th></th>\n",
       "    </tr>\n",
       "  </thead>\n",
       "  <tbody>\n",
       "    <tr>\n",
       "      <th>bids: [1],  asks: [1]</th>\n",
       "      <td>-16.38</td>\n",
       "      <td>0.6</td>\n",
       "      <td>-18.66</td>\n",
       "    </tr>\n",
       "  </tbody>\n",
       "</table>\n",
       "</div>"
      ],
      "text/plain": [
       "y                         -1    0      1\n",
       "orders placed                           \n",
       "bids: [1],  asks: [1] -16.38  0.6 -18.66"
      ]
     },
     "execution_count": 14,
     "metadata": {},
     "output_type": "execute_result"
    }
   ],
   "source": [
    "pnls = probability_simulator.get_pnls()\n",
    "pnls"
   ]
  },
  {
   "cell_type": "markdown",
   "metadata": {},
   "source": [
    "Trading Strategy Backtest Example\n",
    "----------"
   ]
  },
  {
   "cell_type": "markdown",
   "metadata": {},
   "source": [
    "Here we create a basic trading strategy based on a naive mid price prediction.\n",
    "Our midprice prediction is simply the previous midprice movement.\n",
    "\n",
    "Our strategy is as follows:\n",
    "\n",
    "When we predict an up movement, we place a bid on 1st level and an ask on the 2nd level\n",
    "\n",
    "When we predict a down movement, we place a bid on the 2nd level and an ask on the 1st level\n",
    "\n",
    "When we predict no movement, we place our bid and ask on inside market (1st level)"
   ]
  },
  {
   "cell_type": "code",
   "execution_count": 15,
   "metadata": {
    "collapsed": true
   },
   "outputs": [],
   "source": [
    "numupdates = 100\n",
    "midprice_df = book.get_midprice_data(numupdates=100, t_end=34300)\n",
    "midprice_df = midprice_df.iloc[1:]\n",
    "predictions = midprice_df['y_0']\n",
    "strategy = {1: ([1], [2]), 0: ([1], [1]), -1 : ([2], [1])}\n",
    "backtester = tss.TradingStrategyBacktester(book=book, numupdates=100, midprice_df=midprice_df,\n",
    "                                           strategy=strategy, predictions=predictions)"
   ]
  },
  {
   "cell_type": "markdown",
   "metadata": {},
   "source": [
    "Run the strategy up to t = 34300"
   ]
  },
  {
   "cell_type": "code",
   "execution_count": 16,
   "metadata": {},
   "outputs": [
    {
     "name": "stdout",
     "output_type": "stream",
     "text": [
      "up to update number: 0\n"
     ]
    }
   ],
   "source": [
    "backtester.run_strategy()"
   ]
  },
  {
   "cell_type": "code",
   "execution_count": 17,
   "metadata": {
    "collapsed": true
   },
   "outputs": [],
   "source": [
    "pnl_series = backtester.get_pnl_series()/10000"
   ]
  },
  {
   "cell_type": "markdown",
   "metadata": {},
   "source": [
    "First five lines of our profit and loss series"
   ]
  },
  {
   "cell_type": "code",
   "execution_count": 18,
   "metadata": {},
   "outputs": [
    {
     "data": {
      "text/plain": [
       "timestamp\n",
       "34201.004622    0.00\n",
       "34202.208668   -0.01\n",
       "34202.538824    0.00\n",
       "34202.734874    0.02\n",
       "34202.851101    0.04\n",
       "dtype: float64"
      ]
     },
     "execution_count": 18,
     "metadata": {},
     "output_type": "execute_result"
    }
   ],
   "source": [
    "pnl_series.head()"
   ]
  },
  {
   "cell_type": "markdown",
   "metadata": {},
   "source": [
    "Plot Cumulative PNL"
   ]
  },
  {
   "cell_type": "code",
   "execution_count": 19,
   "metadata": {},
   "outputs": [
    {
     "data": {
      "image/png": "[encoded data removed]",
      "text/plain": [
       "<matplotlib.figure.Figure at 0x10de77a58>"
      ]
     },
     "metadata": {},
     "output_type": "display_data"
    }
   ],
   "source": [
    "pnl_series.cumsum().plot()\n",
    "plt.xlim(pnl_series.index.min(), pnl_series.index.max())\n",
    "plt.legend(['pnl'])\n",
    "plt.title('Cumulative Profit and Losses over time for given trading strategy')\n",
    "plt.ylabel('pnl')\n",
    "plt.show()"
   ]
  },
  {
   "cell_type": "markdown",
   "metadata": {},
   "source": [
    "Loss Function Estimation (with standard midprice movement setup)\n",
    "-------------"
   ]
  },
  {
   "cell_type": "markdown",
   "metadata": {},
   "source": [
    "Here we approximate our loss function to feed into our Neural Network using a similar approach to the fill probability simulation.\n",
    "\n",
    "We use the same strategy as we did for the above backtest example"
   ]
  },
  {
   "cell_type": "code",
   "execution_count": 20,
   "metadata": {},
   "outputs": [
    {
     "name": "stdout",
     "output_type": "stream",
     "text": [
      "simulating strategy for case yhat = 1...\n",
      "\n",
      "samples processed so far: 1000.0\n",
      "samples processed so far: 2000.0\n",
      "samples processed so far: 3000.0\n",
      "samples processed so far: 4000.0\n",
      "samples processed so far: 5000.0\n",
      "samples processed so far: 6000.0\n",
      "samples processed so far: 7000.0\n",
      "samples processed so far: 8000.0\n",
      "samples processed so far: 9000.0\n",
      "samples processed so far: 10000.0\n",
      "simulating strategy for case yhat = 0...\n",
      "\n",
      "samples processed so far: 1000.0\n",
      "samples processed so far: 2000.0\n",
      "samples processed so far: 3000.0\n",
      "samples processed so far: 4000.0\n",
      "samples processed so far: 5000.0\n",
      "samples processed so far: 6000.0\n",
      "samples processed so far: 7000.0\n",
      "samples processed so far: 8000.0\n",
      "samples processed so far: 9000.0\n",
      "samples processed so far: 10000.0\n",
      "simulating strategy for case yhat = -1...\n",
      "\n",
      "samples processed so far: 1000.0\n",
      "samples processed so far: 2000.0\n",
      "samples processed so far: 3000.0\n",
      "samples processed so far: 4000.0\n",
      "samples processed so far: 5000.0\n",
      "samples processed so far: 6000.0\n",
      "samples processed so far: 7000.0\n",
      "samples processed so far: 8000.0\n",
      "samples processed so far: 9000.0\n",
      "samples processed so far: 10000.0\n"
     ]
    }
   ],
   "source": [
    "strategy = {1: ([1], [2]), 0: ([1], [1]), -1 : ([2], [1])}\n",
    "loss_func = fps.LossFunction(strategy=strategy, book=book, numupdates=100, t_end=50000, uniform_sampling=True)\n",
    "loss_func.generate_loss_function_and_fill_probabilities(num_samples=10000)"
   ]
  },
  {
   "cell_type": "markdown",
   "metadata": {},
   "source": [
    "Loss Matrix Below based on average PNL in given case (-loss are cases where our strategy yields a profit)"
   ]
  },
  {
   "cell_type": "code",
   "execution_count": 21,
   "metadata": {},
   "outputs": [
    {
     "data": {
      "text/html": [
       "<div>\n",
       "<style>\n",
       "    .dataframe thead tr:only-child th {\n",
       "        text-align: right;\n",
       "    }\n",
       "\n",
       "    .dataframe thead th {\n",
       "        text-align: left;\n",
       "    }\n",
       "\n",
       "    .dataframe tbody tr th {\n",
       "        vertical-align: top;\n",
       "    }\n",
       "</style>\n",
       "<table border=\"1\" class=\"dataframe\">\n",
       "  <thead>\n",
       "    <tr style=\"text-align: right;\">\n",
       "      <th>y_true:</th>\n",
       "      <th>-1</th>\n",
       "      <th>0</th>\n",
       "      <th>1</th>\n",
       "    </tr>\n",
       "    <tr>\n",
       "      <th>y_predicted</th>\n",
       "      <th></th>\n",
       "      <th></th>\n",
       "      <th></th>\n",
       "    </tr>\n",
       "  </thead>\n",
       "  <tbody>\n",
       "    <tr>\n",
       "      <th>-1</th>\n",
       "      <td>-1.84</td>\n",
       "      <td>-0.02</td>\n",
       "      <td>20.44</td>\n",
       "    </tr>\n",
       "    <tr>\n",
       "      <th>0</th>\n",
       "      <td>16.51</td>\n",
       "      <td>-0.68</td>\n",
       "      <td>18.96</td>\n",
       "    </tr>\n",
       "    <tr>\n",
       "      <th>1</th>\n",
       "      <td>20.58</td>\n",
       "      <td>-0.05</td>\n",
       "      <td>-0.42</td>\n",
       "    </tr>\n",
       "  </tbody>\n",
       "</table>\n",
       "</div>"
      ],
      "text/plain": [
       "y_true:         -1     0      1\n",
       "y_predicted                    \n",
       "-1           -1.84 -0.02  20.44\n",
       " 0           16.51 -0.68  18.96\n",
       " 1           20.58 -0.05  -0.42"
      ]
     },
     "execution_count": 21,
     "metadata": {},
     "output_type": "execute_result"
    }
   ],
   "source": [
    "loss_function_matrix = loss_func.get_loss_matrix()\n",
    "loss_function_matrix.head()"
   ]
  },
  {
   "cell_type": "markdown",
   "metadata": {},
   "source": [
    "Fill Probabilities for each strategy"
   ]
  },
  {
   "cell_type": "code",
   "execution_count": 22,
   "metadata": {},
   "outputs": [
    {
     "name": "stdout",
     "output_type": "stream",
     "text": [
      "\n",
      "Fill probabilities for yhat: 1, and trade: ([1], [2])\n",
      "y                              -1         0         1\n",
      "orders_executed                                      \n",
      "bid_level_0_ask_level_0  0.366227  0.780978  0.913591\n",
      "bid_level_0_ask_level_2  0.000000  0.001500  0.054905\n",
      "bid_level_1_ask_level_0  0.632873  0.217522  0.022802\n",
      "bid_level_1_ask_level_2  0.000900  0.000000  0.008701\n",
      "\n",
      "Fill probabilities for yhat: 0, and trade: ([1], [1])\n",
      "y                              -1         0         1\n",
      "orders_executed                                      \n",
      "bid_level_0_ask_level_0  0.345231  0.639664  0.328533\n",
      "bid_level_0_ask_level_1  0.021896  0.141314  0.633363\n",
      "bid_level_1_ask_level_0  0.585183  0.198620  0.013801\n",
      "bid_level_1_ask_level_1  0.047690  0.020402  0.024302\n",
      "\n",
      "Fill probabilities for yhat: -1, and trade: ([2], [1])\n",
      "y                              -1         0         1\n",
      "orders_executed                                      \n",
      "bid_level_0_ask_level_0  0.913917  0.838584  0.350135\n",
      "bid_level_0_ask_level_1  0.054889  0.160816  0.648065\n",
      "bid_level_2_ask_level_0  0.021596  0.000600  0.001800\n",
      "bid_level_2_ask_level_1  0.009598  0.000000  0.000000\n"
     ]
    }
   ],
   "source": [
    "for key in strategy:\n",
    "    print(\"\\nFill probabilities for yhat: \" + str(key) + \", and trade: \" + str(strategy[key]))\n",
    "    print(loss_func.get_fill_probabilities()[key])"
   ]
  }
 ],
 "metadata": {
  "kernelspec": {
   "display_name": "Python 3",
   "language": "python",
   "name": "python3"
  },
  "language_info": {
   "codemirror_mode": {
    "name": "ipython",
    "version": 3
   },
   "file_extension": ".py",
   "mimetype": "text/x-python",
   "name": "python",
   "nbconvert_exporter": "python",
   "pygments_lexer": "ipython3",
   "version": "3.6.3"
  }
 },
 "nbformat": 4,
 "nbformat_minor": 2
}
