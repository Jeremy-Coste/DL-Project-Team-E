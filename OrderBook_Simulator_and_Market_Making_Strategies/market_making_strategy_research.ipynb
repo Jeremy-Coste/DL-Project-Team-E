{
 "cells": [
  {
   "cell_type": "markdown",
   "metadata": {},
   "source": [
    "Proposed Trading Strategy\n",
    "-----\n",
    "\n",
    "We test our strategy on a few models. We assume practically no latency (~1 nanosecond) in the tests below."
   ]
  },
  {
   "cell_type": "code",
   "execution_count": 1,
   "metadata": {
    "collapsed": true
   },
   "outputs": [],
   "source": [
    "import pandas as pd\n",
    "import numpy as np\n",
    "import os\n",
    "import math\n",
    "import sys\n",
    "from matplotlib import pyplot as plt\n",
    "from pylab import rcParams\n",
    "rcParams['figure.figsize'] = 10, 10\n",
    "sys.path.insert(0, os.path.join(os.getcwd(), 'code'))\n",
    "\n",
    "import OrderBook as ob\n",
    "import OrderUtil as ou\n",
    "import TradingStrategySimulator as tss\n",
    "import FillProbabilitySimulator as fps\n"
   ]
  },
  {
   "cell_type": "code",
   "execution_count": 2,
   "metadata": {
    "collapsed": true
   },
   "outputs": [],
   "source": [
    "#load in intc OrderBook data\n",
    "book = ob.OrderBook(message_filename='INTC_message.csv', orderbook_filename='INTC_OrderBook.csv')"
   ]
  },
  {
   "cell_type": "markdown",
   "metadata": {},
   "source": [
    "100% Accuracy\n",
    "--------\n",
    "Here we use an ideal 100% accurate model to see whether or not our strategy can be profitable"
   ]
  },
  {
   "cell_type": "code",
   "execution_count": 3,
   "metadata": {},
   "outputs": [
    {
     "name": "stdout",
     "output_type": "stream",
     "text": [
      "Current time:        35004.165325977\n",
      "Current pnl: 0.0\n",
      "Current time:        35346.302228164\n",
      "Current pnl: 800.0\n",
      "Current time:        35683.574315923\n",
      "Current pnl: 1800.0\n",
      "Current time:        36004.676315666\n",
      "Current pnl: 2500.0\n",
      "Current time:        36220.624942718\n",
      "Current pnl: 3300.0\n",
      "Current time:        36507.113394756\n",
      "Current pnl: 3700.0\n",
      "Current time:        37123.126168205\n",
      "Current pnl: 4400.0\n",
      "Current time:        37568.316281126004\n",
      "Current pnl: 4600.0\n",
      "Current time:        38169.133375705\n",
      "Current pnl: 4700.0\n",
      "Current time:        38754.000484555\n",
      "Current pnl: 5400.0\n",
      "Current time:        39440.59777616\n",
      "Current pnl: 5400.0\n",
      "Current time:        39803.404938539\n",
      "Current pnl: 5600.0\n",
      "Current time:        40205.605567611005\n",
      "Current pnl: 6000.0\n",
      "Current time:        40614.581165504\n",
      "Current pnl: 6350.0\n",
      "Current time:        40941.827805866\n",
      "Current pnl: 6500.0\n",
      "Current time:        41674.926337076\n",
      "Current pnl: 6700.0\n",
      "Current time:        42080.161586656\n",
      "Current pnl: 6900.0\n",
      "Current time:        42746.926605269\n",
      "Current pnl: 7200.0\n",
      "Current time:        43093.211870421\n",
      "Current pnl: 7500.0\n",
      "Current time:        43706.316178026\n",
      "Current pnl: 7900.0\n",
      "Current time:        44200.736849615\n",
      "Current pnl: 8000.0\n",
      "Current time:        44578.522689605\n",
      "Current pnl: 8550.0\n",
      "Current time:        44940.309359482\n",
      "Current pnl: 9000.0\n",
      "Current time:        45244.137323191\n",
      "Current pnl: 9400.0\n",
      "Current time:        45670.524078245\n",
      "Current pnl: 9800.0\n",
      "Current time:        46074.52441442\n",
      "Current pnl: 9800.0\n",
      "Current time:        46755.884500445\n",
      "Current pnl: 10100.0\n",
      "Current time:        47419.746187355995\n",
      "Current pnl: 10300.0\n",
      "Current time:        47995.714939182995\n",
      "Current pnl: 10500.0\n",
      "Current time:        48637.824631651\n",
      "Current pnl: 10800.0\n",
      "Current time:        49158.5994588\n",
      "Current pnl: 11100.0\n",
      "Current time:        49685.119302055995\n",
      "Current pnl: 11500.0\n"
     ]
    }
   ],
   "source": [
    "strat = {1: ([1, 2, 3, 4, 5], [1, 2, 3, 4, 5]),\n",
    "         -1 : ([1, 2, 3, 4, 5], [1, 2, 3, 4, 5])}\n",
    "midprice_df = book.get_midprice_data(numupdates=1, t_start=35000, t_end=50000, tick_size=100, next_move=True)\n",
    "midprice_df.dropna(inplace=True)\n",
    "backtester = tss.BacktesterSimulator(book=book, midprice_df=midprice_df, strategy=strat,\n",
    "                                     max_exposure_dict={1:1, -1:1}, accuracy_rate=1,\n",
    "                                     tick_size=100)\n",
    "backtester.run_strategy_simulation()\n"
   ]
  },
  {
   "cell_type": "code",
   "execution_count": 4,
   "metadata": {},
   "outputs": [
    {
     "data": {
      "image/png": "[encoded data removed]",
      "text/plain": [
       "<matplotlib.figure.Figure at 0x106633ba8>"
      ]
     },
     "metadata": {},
     "output_type": "display_data"
    }
   ],
   "source": [
    "pnls = backtester._strategy_simulator.get_pnl_series()\n",
    "pnls.cumsum().plot()\n",
    "plt.title('PNL for 100% accuracy from time 35000 to 50000')\n",
    "plt.show()"
   ]
  },
  {
   "cell_type": "markdown",
   "metadata": {},
   "source": [
    "60% Accuracy\n",
    "---------\n",
    "Here we test a hypothetical model that has an average of 60% out of sample accuracy"
   ]
  },
  {
   "cell_type": "code",
   "execution_count": 5,
   "metadata": {},
   "outputs": [
    {
     "name": "stdout",
     "output_type": "stream",
     "text": [
      "Current time:        35004.165325977\n",
      "Current pnl: 0.0\n",
      "Current time:        35346.302228164\n",
      "Current pnl: -100.0\n",
      "Current time:        35683.574315923\n",
      "Current pnl: 100.0\n",
      "Current time:        36004.676315666\n",
      "Current pnl: 300.0\n",
      "Current time:        36220.624942718\n",
      "Current pnl: 400.0\n",
      "Current time:        36507.113394756\n",
      "Current pnl: 400.0\n",
      "Current time:        37123.126168205\n",
      "Current pnl: 600.0\n",
      "Current time:        37568.316281126004\n",
      "Current pnl: 700.0\n",
      "Current time:        38169.133375705\n",
      "Current pnl: 700.0\n",
      "Current time:        38754.000484555\n",
      "Current pnl: 900.0\n",
      "Current time:        39440.59777616\n",
      "Current pnl: 900.0\n",
      "Current time:        39803.404938539\n",
      "Current pnl: 900.0\n",
      "Current time:        40205.605567611005\n",
      "Current pnl: 1000.0\n",
      "Current time:        40614.581165504\n",
      "Current pnl: 1000.0\n",
      "Current time:        40941.827805866\n",
      "Current pnl: 1000.0\n",
      "Current time:        41674.926337076\n",
      "Current pnl: 1000.0\n",
      "Current time:        42080.161586656\n",
      "Current pnl: 1000.0\n",
      "Current time:        42746.926605269\n",
      "Current pnl: 1000.0\n",
      "Current time:        43093.211870421\n",
      "Current pnl: 1200.0\n",
      "Current time:        43706.316178026\n",
      "Current pnl: 1200.0\n",
      "Current time:        44200.736849615\n",
      "Current pnl: 1300.0\n",
      "Current time:        44578.522689605\n",
      "Current pnl: 1600.0\n",
      "Current time:        44940.309359482\n",
      "Current pnl: 1700.0\n",
      "Current time:        45244.137323191\n",
      "Current pnl: 1800.0\n",
      "Current time:        45670.524078245\n",
      "Current pnl: 2000.0\n",
      "Current time:        46074.52441442\n",
      "Current pnl: 2000.0\n",
      "Current time:        46755.884500445\n",
      "Current pnl: 2100.0\n",
      "Current time:        47419.746187355995\n",
      "Current pnl: 2100.0\n",
      "Current time:        47995.714939182995\n",
      "Current pnl: 2200.0\n",
      "Current time:        48637.824631651\n",
      "Current pnl: 2200.0\n",
      "Current time:        49158.5994588\n",
      "Current pnl: 2400.0\n",
      "Current time:        49685.119302055995\n",
      "Current pnl: 2500.0\n"
     ]
    }
   ],
   "source": [
    "strat = {1: ([1, 2, 3, 4, 5], [1, 2, 3, 4, 5]),\n",
    "         -1 : ([1, 2, 3, 4, 5], [1, 2, 3, 4, 5])}\n",
    "midprice_df = book.get_midprice_data(numupdates=1, t_start=35000, t_end=50000, tick_size=100, next_move=True)\n",
    "midprice_df.dropna(inplace=True)\n",
    "\n",
    "backtester = tss.BacktesterSimulator(book=book, midprice_df=midprice_df, strategy=strat,\n",
    "                                     max_exposure_dict={1:1, -1:1}, accuracy_rate=0.60,\n",
    "                                     tick_size=100)\n",
    "backtester.run_strategy_simulation()"
   ]
  },
  {
   "cell_type": "code",
   "execution_count": 6,
   "metadata": {},
   "outputs": [
    {
     "data": {
      "image/png": "[encoded data removed]",
      "text/plain": [
       "<matplotlib.figure.Figure at 0x10cc75fd0>"
      ]
     },
     "metadata": {},
     "output_type": "display_data"
    }
   ],
   "source": [
    "pnls = backtester._strategy_simulator.get_pnl_series()\n",
    "pnls.cumsum().plot()\n",
    "plt.title('PNL for 60% accuracy from time 35000 to 50000')\n",
    "plt.show()"
   ]
  },
  {
   "cell_type": "markdown",
   "metadata": {},
   "source": [
    "Strategy Tested Using Simple Prediction Model\n",
    "--------\n",
    "When bid level 1 quantity is greater than or equal to ask level 1 quantity we predict an up move, otherwise we predict a down move.\n",
    "\n",
    "This model serves as a sanity check, as we do not expect good performance here."
   ]
  },
  {
   "cell_type": "code",
   "execution_count": 8,
   "metadata": {},
   "outputs": [
    {
     "name": "stdout",
     "output_type": "stream",
     "text": [
      "Current time:        35004.165325977\n",
      "Current pnl: 0.0\n",
      "Current time:        35346.302228164\n",
      "Current pnl: -900.0\n",
      "Current time:        35683.574315923\n",
      "Current pnl: -1300.0\n",
      "Current time:        36004.676315666\n",
      "Current pnl: -1800.0\n",
      "Current time:        36220.624942718\n",
      "Current pnl: -2100.0\n",
      "Current time:        36507.113394756\n",
      "Current pnl: -2000.0\n",
      "Current time:        37123.126168205\n",
      "Current pnl: -2000.0\n",
      "Current time:        37568.316281126004\n",
      "Current pnl: -2600.0\n",
      "Current time:        38169.133375705\n",
      "Current pnl: -2600.0\n",
      "Current time:        38754.000484555\n",
      "Current pnl: -2600.0\n",
      "Current time:        39440.59777616\n",
      "Current pnl: -2700.0\n",
      "Current time:        39803.404938539\n",
      "Current pnl: -2600.0\n",
      "Current time:        40205.605567611005\n",
      "Current pnl: -3000.0\n",
      "Current time:        40614.581165504\n",
      "Current pnl: -3000.0\n",
      "Current time:        40941.827805866\n",
      "Current pnl: -3100.0\n",
      "Current time:        41674.926337076\n",
      "Current pnl: -3300.0\n",
      "Current time:        42080.161586656\n",
      "Current pnl: -3400.0\n",
      "Current time:        42746.926605269\n",
      "Current pnl: -3400.0\n",
      "Current time:        43093.211870421\n",
      "Current pnl: -3600.0\n",
      "Current time:        43706.316178026\n",
      "Current pnl: -3800.0\n",
      "Current time:        44200.736849615\n",
      "Current pnl: -3900.0\n",
      "Current time:        44578.522689605\n",
      "Current pnl: -4200.0\n",
      "Current time:        44940.309359482\n",
      "Current pnl: -4500.0\n",
      "Current time:        45244.137323191\n",
      "Current pnl: -4700.0\n",
      "Current time:        45670.524078245\n",
      "Current pnl: -4900.0\n",
      "Current time:        46074.52441442\n",
      "Current pnl: -4900.0\n",
      "Current time:        46755.884500445\n",
      "Current pnl: -5000.0\n",
      "Current time:        47419.746187355995\n",
      "Current pnl: -4900.0\n",
      "Current time:        47995.714939182995\n",
      "Current pnl: -5100.0\n",
      "Current time:        48637.824631651\n",
      "Current pnl: -5100.0\n",
      "Current time:        49158.5994588\n",
      "Current pnl: -5200.0\n",
      "Current time:        49685.119302055995\n",
      "Current pnl: -5500.0\n"
     ]
    }
   ],
   "source": [
    "strat = {1: ([1, 2, 3, 4, 5], [1, 2, 3, 4, 5]),\n",
    "         -1 : ([1, 2, 3, 4, 5], [1, 2, 3, 4, 5])}\n",
    "midprice_df = book.get_midprice_data(numupdates=1, t_start=35000, t_end=50000, tick_size=100, next_move=True)\n",
    "midprice_df.dropna(inplace=True)\n",
    "pred = (midprice_df['bq1'] >= midprice_df['aq1']).astype(int)\n",
    "pred = 2.0*(pred - 0.5)\n",
    "midprice_df['y_predict'] = pred\n",
    "backtester = tss.TradingStrategyBacktester(book=book, midprice_df=midprice_df, strategy=strat,\n",
    "                                           max_exposure_dict={1:1, -1:1}, \n",
    "                                           tick_size=100)\n",
    "backtester.run_strategy()"
   ]
  },
  {
   "cell_type": "code",
   "execution_count": 9,
   "metadata": {},
   "outputs": [
    {
     "data": {
      "image/png": "[encoded data removed]",
      "text/plain": [
       "<matplotlib.figure.Figure at 0x1017f10b8>"
      ]
     },
     "metadata": {},
     "output_type": "display_data"
    }
   ],
   "source": [
    "pnls = backtester.get_pnl_series()\n",
    "pnls.cumsum().plot()\n",
    "plt.title('PNL using simple strategy from 35000 to 50000')\n",
    "plt.show()"
   ]
  },
  {
   "cell_type": "code",
   "execution_count": null,
   "metadata": {
    "collapsed": true
   },
   "outputs": [],
   "source": []
  }
 ],
 "metadata": {
  "kernelspec": {
   "display_name": "Python 3",
   "language": "python",
   "name": "python3"
  },
  "language_info": {
   "codemirror_mode": {
    "name": "ipython",
    "version": 3
   },
   "file_extension": ".py",
   "mimetype": "text/x-python",
   "name": "python",
   "nbconvert_exporter": "python",
   "pygments_lexer": "ipython3",
   "version": "3.6.3"
  }
 },
 "nbformat": 4,
 "nbformat_minor": 2
}
