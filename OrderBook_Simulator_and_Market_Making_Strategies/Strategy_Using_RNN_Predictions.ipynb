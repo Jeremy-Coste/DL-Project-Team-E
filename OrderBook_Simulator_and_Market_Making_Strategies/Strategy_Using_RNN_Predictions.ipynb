{
 "cells": [
  {
   "cell_type": "markdown",
   "metadata": {},
   "source": [
    "Strategy Performance on Test Set\n",
    "--------\n",
    "\n",
    "Here we test our strategy on our INTC test set data using our most promising RNN predictions for given latencies"
   ]
  },
  {
   "cell_type": "code",
   "execution_count": 1,
   "metadata": {
    "collapsed": true
   },
   "outputs": [],
   "source": [
    "#Package imports\n",
    "import pandas as pd\n",
    "import numpy as np\n",
    "import os\n",
    "import math\n",
    "import sys\n",
    "from matplotlib import pyplot as plt\n",
    "from pylab import rcParams\n",
    "rcParams['figure.figsize'] = 10, 10\n",
    "sys.path.insert(0, os.path.join(os.getcwd(), 'code'))\n",
    "\n",
    "import OrderBook as ob\n",
    "import OrderUtil as ou\n",
    "import TradingStrategySimulator as tss\n",
    "import FillProbabilitySimulator as fps\n",
    "path = os.path.join(os.getcwd(), 'data')"
   ]
  },
  {
   "cell_type": "code",
   "execution_count": 2,
   "metadata": {
    "collapsed": true
   },
   "outputs": [],
   "source": [
    "#load in orderbook data\n",
    "book = ob.OrderBook(message_filename='INTC_message.csv', orderbook_filename='INTC_OrderBook.csv')"
   ]
  },
  {
   "cell_type": "code",
   "execution_count": 3,
   "metadata": {
    "collapsed": true
   },
   "outputs": [],
   "source": [
    "#load in RNN predictions\n",
    "y_test= pd.read_csv(os.path.join(path, 'pred_test_intc_up&down_nolesssprd.csv'))\n",
    "y_times_test = pd.read_csv(os.path.join(path, 'y_test_time_intc_up&down_nolesssprd.csv'))\n",
    "y_test = pd.DataFrame(y_test.values, index=y_times_test)\n",
    "y_test['timestamp'] = y_times_test.values\n",
    "y_test.drop_duplicates(subset='timestamp', keep='last', inplace=True)\n",
    "y_test.set_index('timestamp', inplace=True)\n",
    "strat = {1: ([1, 2, 3, 4, 5], [1, 2, 3, 4, 5]),\n",
    "         -1 : ([1, 2, 3, 4, 5], [1, 2, 3, 4, 5])}\n",
    "midprice_df = book.get_midprice_data(numupdates=1, t_start=54160, t_end=57590, tick_size=100, next_move=True)\n",
    "midprice_df.dropna(inplace=True)\n",
    "y_test = y_test.reindex_axis(midprice_df.index, method='bfill')\n",
    "\n",
    "#set our predictions to those outputted by our RNN\n",
    "midprice_df['y_predict'] = y_test[2]"
   ]
  },
  {
   "cell_type": "markdown",
   "metadata": {},
   "source": [
    "Performance with Different Latencies\n",
    "--------\n",
    "Latency is applied for both orderbook refreshing and placing/cancelling orders\n",
    "\n",
    "We run our strategy for the following latencies:\n",
    "- Fastest possible latency, every orderbook update (~1 nanosecond)\n",
    "- 1 microsecond\n",
    "- 10 microseconds\n",
    "- 100 microseconds\n",
    "- 1 millisecond\n",
    "- 10 milliseconds\n",
    "- 1 second"
   ]
  },
  {
   "cell_type": "code",
   "execution_count": 4,
   "metadata": {},
   "outputs": [
    {
     "name": "stdout",
     "output_type": "stream",
     "text": [
      "\n",
      "Running Strategy using latency of 0 seconds:\n",
      "\n",
      "Current time:        54160.40692089\n",
      "Current pnl: 0.0\n",
      "Current time:        54752.692022862\n",
      "Current pnl: 400.0\n",
      "Current time:        55135.513492499995\n",
      "Current pnl: 1000.0\n",
      "Current time:        55435.104089687\n",
      "Current pnl: 1200.0\n",
      "Current time:        55840.150144702005\n",
      "Current pnl: 1300.0\n",
      "Current time:        56191.925994372\n",
      "Current pnl: 1500.0\n",
      "Current time:        56491.850371773\n",
      "Current pnl: 1700.0\n",
      "Current time:        56850.543401762996\n",
      "Current pnl: 2000.0\n",
      "Current time:        57104.211982499\n",
      "Current pnl: 2200.0\n",
      "Current time:        57281.17088993901\n",
      "Current pnl: 2500.0\n",
      "Current time:        57517.091888796\n",
      "Current pnl: 2750.0\n",
      "\n",
      "Running Strategy using latency of 1e-06 seconds:\n",
      "\n",
      "Current time:        54161.596079999996\n",
      "Current pnl: 0.0\n",
      "Current time:        54753.377716999996\n",
      "Current pnl: 0.0\n",
      "Current time:        55136.627035\n",
      "Current pnl: 500.0\n",
      "Current time:        55438.733736999995\n",
      "Current pnl: 500.0\n",
      "Current time:        55851.083354999995\n",
      "Current pnl: 600.0\n",
      "Current time:        56226.166075999994\n",
      "Current pnl: 850.0\n",
      "Current time:        56514.060944\n",
      "Current pnl: 1000.0\n",
      "Current time:        56869.088224\n",
      "Current pnl: 1100.0\n",
      "Current time:        57116.627991999994\n",
      "Current pnl: 1000.0\n",
      "Current time:        57300.048649\n",
      "Current pnl: 1500.0\n",
      "Current time:        57538.931314999994\n",
      "Current pnl: 1500.0\n",
      "\n",
      "Running Strategy using latency of 1e-05 seconds:\n",
      "\n",
      "Current time:        54161.59608\n",
      "Current pnl: 0.0\n",
      "Current time:        54839.38124\n",
      "Current pnl: 200.0\n",
      "Current time:        55251.649040000004\n",
      "Current pnl: 400.0\n",
      "Current time:        55548.47531\n",
      "Current pnl: 300.0\n",
      "Current time:        56083.516670000005\n",
      "Current pnl: 300.0\n",
      "Current time:        56412.10241000001\n",
      "Current pnl: 600.0\n",
      "Current time:        56815.220250000006\n",
      "Current pnl: 700.0\n",
      "Current time:        57104.2001\n",
      "Current pnl: 800.0\n",
      "Current time:        57301.0278\n",
      "Current pnl: 1100.0\n",
      "Current time:        57560.396830000005\n",
      "Current pnl: 1100.0\n",
      "\n",
      "Running Strategy using latency of 0.0001 seconds:\n",
      "\n",
      "Current time:        54161.5961\n",
      "Current pnl: 0.0\n",
      "Current time:        55009.2344\n",
      "Current pnl: 0.0\n",
      "Current time:        55498.6714\n",
      "Current pnl: -100.0\n",
      "Current time:        56130.121600000006\n",
      "Current pnl: 0.0\n",
      "Current time:        56598.3159\n",
      "Current pnl: 0.0\n",
      "Current time:        57028.3481\n",
      "Current pnl: 0.0\n",
      "Current time:        57312.4221\n",
      "Current pnl: -100.0\n",
      "\n",
      "Running Strategy using latency of 0.001 seconds:\n",
      "\n",
      "Current time:        54161.597\n",
      "Current pnl: 0.0\n",
      "Current time:        55288.934\n",
      "Current pnl: -500.0\n",
      "Current time:        56234.412000000004\n",
      "Current pnl: -500.0\n",
      "Current time:        56937.515\n",
      "Current pnl: -500.0\n",
      "Current time:        57459.392\n",
      "Current pnl: -700.0\n",
      "\n",
      "Running Strategy using latency of 0.01 seconds:\n",
      "\n",
      "Current time:        54161.6\n",
      "Current pnl: 0.0\n",
      "Current time:        55849.3\n",
      "Current pnl: -600.0\n",
      "Current time:        57064.21\n",
      "Current pnl: -1300.0\n",
      "\n",
      "Running Strategy using latency of 1 seconds:\n",
      "\n",
      "Current time:        54163\n",
      "Current pnl: 0.0\n",
      "done\n"
     ]
    }
   ],
   "source": [
    "performance_df = pd.DataFrame(index=range(54160, 57590),\n",
    "                              columns=['~1_nanosecond', '1_microsecond',\n",
    "                                       '10_microseconds', '100_microseconds',\n",
    "                                       '1_millisecond', '10_milliseconds', '1_second'])\n",
    "\n",
    "count = 0\n",
    "for latency in [(0, 0), (1e-6, 1e-6), (1e-5, 1e-5), (1e-4, 1e-4), (1e-3, 1e-3), (1e-2, 1e-2), (1, 1)]:\n",
    "    print(\"\\nRunning Strategy using latency of \" + str(latency[0]) + \" seconds:\\n\")\n",
    "    backtester = tss.TradingStrategyBacktester(book=book, midprice_df=midprice_df, strategy=strat,                                     \n",
    "                                               max_exposure_dict={1:1, -1:1}, latency=latency,\n",
    "                                               tick_size=100)\n",
    "    backtester.run_strategy()\n",
    "    pnls = backtester.get_pnl_series()\n",
    "    cum_pnls = pnls.cumsum()\n",
    "    cum_pnls = cum_pnls.reindex_axis(performance_df.index, method='ffill')\n",
    "    performance_df.iloc[:, count] = cum_pnls\n",
    "    count += 1\n",
    "    \n",
    "print(\"done\")"
   ]
  },
  {
   "cell_type": "markdown",
   "metadata": {},
   "source": [
    "Plot of PNLs vs given Latency Below\n",
    "--------"
   ]
  },
  {
   "cell_type": "code",
   "execution_count": 5,
   "metadata": {
    "scrolled": true
   },
   "outputs": [
    {
     "data": {
      "image/png": "[encoded data removed]",
      "text/plain": [
       "<matplotlib.figure.Figure at 0x113ecbcc0>"
      ]
     },
     "metadata": {},
     "output_type": "display_data"
    }
   ],
   "source": [
    "performance_df.plot()\n",
    "plt.title(\"Out of Sample PNLs for given Latencies\")\n",
    "plt.xlabel(\"Time in Seconds\")\n",
    "plt.ylabel(\"PNL in Cents\")\n",
    "plt.legend()\n",
    "plt.show()"
   ]
  },
  {
   "cell_type": "code",
   "execution_count": null,
   "metadata": {
    "collapsed": true
   },
   "outputs": [],
   "source": []
  }
 ],
 "metadata": {
  "kernelspec": {
   "display_name": "Python 3",
   "language": "python",
   "name": "python3"
  },
  "language_info": {
   "codemirror_mode": {
    "name": "ipython",
    "version": 3
   },
   "file_extension": ".py",
   "mimetype": "text/x-python",
   "name": "python",
   "nbconvert_exporter": "python",
   "pygments_lexer": "ipython3",
   "version": "3.6.3"
  }
 },
 "nbformat": 4,
 "nbformat_minor": 2
}
