{
 "cells": [
  {
   "cell_type": "markdown",
   "metadata": {},
   "source": [
    "Strategy Performance on Test Set\n",
    "--------\n",
    "\n",
    "Here we test our strategy on our INTC test set data using our most promising RNN predictions for given latencies"
   ]
  },
  {
   "cell_type": "code",
   "execution_count": 1,
   "metadata": {
    "collapsed": true
   },
   "outputs": [],
   "source": [
    "#Package imports\n",
    "import pandas as pd\n",
    "import numpy as np\n",
    "import os\n",
    "import math\n",
    "import sys\n",
    "from matplotlib import pyplot as plt\n",
    "from pylab import rcParams\n",
    "rcParams['figure.figsize'] = 10, 10\n",
    "sys.path.insert(0, os.path.join(os.getcwd(), 'code'))\n",
    "\n",
    "import OrderBook as ob\n",
    "import OrderUtil as ou\n",
    "import TradingStrategySimulator as tss\n",
    "import FillProbabilitySimulator as fps\n",
    "path = os.path.join(os.getcwd(), 'data')"
   ]
  },
  {
   "cell_type": "code",
   "execution_count": 2,
   "metadata": {},
   "outputs": [],
   "source": [
    "#load in orderbook data\n",
    "book = ob.OrderBook(message_filename='INTC_message.csv', orderbook_filename='INTC_OrderBook.csv', memory_size=100)"
   ]
  },
  {
   "cell_type": "code",
   "execution_count": 3,
   "metadata": {
    "collapsed": true
   },
   "outputs": [],
   "source": [
    "#load in RNN predictions\n",
    "y_test= pd.read_csv(os.path.join(path, 'pred_test_intc_up&down_nolesssprd.csv'))\n",
    "y_times_test = pd.read_csv(os.path.join(path, 'y_test_time_intc_up&down_nolesssprd.csv'))\n",
    "y_test = pd.DataFrame(y_test.values, index=y_times_test)\n",
    "y_test['timestamp'] = y_times_test.values\n",
    "y_test.drop_duplicates(subset='timestamp', keep='last', inplace=True)\n",
    "y_test.set_index('timestamp', inplace=True)\n",
    "strat = {1: ([1, 2, 3, 4, 5], [1, 2, 3, 4, 5]),\n",
    "         -1 : ([1, 2, 3, 4, 5], [1, 2, 3, 4, 5])}\n",
    "midprice_df = book.get_midprice_data(numupdates=1, t_start=54160, t_end=57590, tick_size=100, next_move=True)\n",
    "midprice_df.dropna(inplace=True)\n",
    "y_test = y_test.reindex_axis(midprice_df.index, method='bfill')\n",
    "\n",
    "#set our predictions to those outputted by our RNN\n",
    "midprice_df['y_predict'] = y_test[2]"
   ]
  },
  {
   "cell_type": "markdown",
   "metadata": {},
   "source": [
    "Performance with Different Latencies\n",
    "--------\n",
    "Latency is applied for both orderbook refreshing and placing/cancelling orders\n",
    "\n",
    "We run our strategy for the following latencies:\n",
    "- 1 microsecond\n",
    "- 10 microseconds\n",
    "- 20 microseconds\n",
    "- 50 microseconds\n",
    "- 100 microseconds\n",
    "- 1 millisecond\n",
    "- 1 second"
   ]
  },
  {
   "cell_type": "code",
   "execution_count": 4,
   "metadata": {},
   "outputs": [
    {
     "name": "stdout",
     "output_type": "stream",
     "text": [
      "\n",
      "Running Strategy using latency of 1e-06 seconds:\n",
      "\n",
      "Current time:        54160.406922999995\n",
      "Current pnl: 0.0\n",
      "Current time:        54776.914893\n",
      "Current pnl: 400.0\n",
      "Current time:        55137.579625\n",
      "Current pnl: 1200.0\n",
      "Current time:        55449.639172999996\n",
      "Current pnl: 1300.0\n",
      "Current time:        55951.114447\n",
      "Current pnl: 1400.0\n",
      "Current time:        56253.300318999994\n",
      "Current pnl: 1700.0\n",
      "Current time:        56556.959827\n",
      "Current pnl: 1900.0\n",
      "Current time:        56888.020477\n",
      "Current pnl: 2100.0\n",
      "Current time:        57128.045387\n",
      "Current pnl: 2300.0\n",
      "Current time:        57335.312879\n",
      "Current pnl: 2900.0\n",
      "\n",
      "Running Strategy using latency of 1e-05 seconds:\n",
      "\n",
      "Current time:        54160.40695000001\n",
      "Current pnl: 0.0\n",
      "Current time:        54916.58843000001\n",
      "Current pnl: 400.0\n",
      "Current time:        55282.440850000006\n",
      "Current pnl: 750.0\n",
      "Current time:        55748.81979000001\n",
      "Current pnl: 750.0\n",
      "Current time:        56191.82303000001\n",
      "Current pnl: 900.0\n",
      "Current time:        56543.10641000001\n",
      "Current pnl: 1200.0\n",
      "Current time:        56919.11837000001\n",
      "Current pnl: 1400.0\n",
      "Current time:        57165.68327000001\n",
      "Current pnl: 1900.0\n",
      "Current time:        57460.729770000005\n",
      "Current pnl: 2400.0\n",
      "\n",
      "Running Strategy using latency of 2e-05 seconds:\n",
      "\n",
      "Current time:        54160.40698000001\n",
      "Current pnl: 0.0\n",
      "Current time:        54945.750940000005\n",
      "Current pnl: 300.0\n",
      "Current time:        55354.64826\n",
      "Current pnl: 300.0\n",
      "Current time:        55911.913100000005\n",
      "Current pnl: 400.0\n",
      "Current time:        56308.62874000001\n",
      "Current pnl: 500.0\n",
      "Current time:        56741.43346000001\n",
      "Current pnl: 700.0\n",
      "Current time:        57091.02958\n",
      "Current pnl: 900.0\n",
      "Current time:        57325.7733\n",
      "Current pnl: 1000.0\n",
      "\n",
      "Running Strategy using latency of 5e-05 seconds:\n",
      "\n",
      "Current time:        54160.40705\n",
      "Current pnl: 0.0\n",
      "Current time:        55009.234350000006\n",
      "Current pnl: 0.0\n",
      "Current time:        55498.671350000004\n",
      "Current pnl: 0.0\n",
      "Current time:        56130.12155\n",
      "Current pnl: 200.0\n",
      "Current time:        56598.311250000006\n",
      "Current pnl: 200.0\n",
      "Current time:        57028.34435000001\n",
      "Current pnl: 300.0\n",
      "Current time:        57312.42205000001\n",
      "Current pnl: 200.0\n",
      "\n",
      "Running Strategy using latency of 0.0001 seconds:\n",
      "\n",
      "Current time:        54160.4071\n",
      "Current pnl: 0.0\n",
      "Current time:        55043.1299\n",
      "Current pnl: -400.0\n",
      "Current time:        55688.9295\n",
      "Current pnl: -600.0\n",
      "Current time:        56327.5865\n",
      "Current pnl: -500.0\n",
      "Current time:        56869.8373\n",
      "Current pnl: -400.0\n",
      "Current time:        57219.6509\n",
      "Current pnl: -500.0\n",
      "\n",
      "Running Strategy using latency of 0.001 seconds:\n",
      "\n",
      "Current time:        54160.409\n",
      "Current pnl: 0.0\n",
      "Current time:        55403.575\n",
      "Current pnl: -600.0\n",
      "Current time:        56422.060999999994\n",
      "Current pnl: -900.0\n",
      "Current time:        57166.810999999994\n",
      "Current pnl: -1400.0\n",
      "\n",
      "Running Strategy using latency of 1 seconds:\n",
      "\n",
      "Current time:        54165\n",
      "Current pnl: 0.0\n",
      "done\n"
     ]
    }
   ],
   "source": [
    "performance_df = pd.DataFrame(index=range(54160, 57590),\n",
    "                              columns=['1_microsecond', '10_microseconds',\n",
    "                                       '20_microseconds', '50_microseconds',\n",
    "                                       '100_microseconds', '1_millisecond', '1_second'])\n",
    "\n",
    "count = 0\n",
    "for latency in [(1e-6, 1e-6), (1e-5, 1e-5), (2e-5, 2e-5),\n",
    "                (5e-5, 5e-5), (1e-4, 1e-4), (1e-3, 1e-3), (1, 1)]:\n",
    "    print(\"\\nRunning Strategy using latency of \" + str(latency[0]) + \" seconds:\\n\")\n",
    "    backtester = tss.TradingStrategyBacktester(book=book, midprice_df=midprice_df, strategy=strat,                                     \n",
    "                                            max_exposure_dict={1:1, -1:1}, latency=latency,\n",
    "                                            tick_size=100)\n",
    "    backtester.run_strategy()\n",
    "    pnls = backtester.get_pnl_series()\n",
    "    cum_pnls = pnls.cumsum()\n",
    "    cum_pnls = cum_pnls.reindex_axis(performance_df.index, method='ffill')\n",
    "    performance_df.iloc[:, count] = cum_pnls\n",
    "    count += 1\n",
    "    \n",
    "print(\"done\")"
   ]
  },
  {
   "cell_type": "markdown",
   "metadata": {},
   "source": [
    "Plot of PNLs vs given Latency Below\n",
    "--------"
   ]
  },
  {
   "cell_type": "code",
   "execution_count": 5,
   "metadata": {
    "scrolled": true
   },
   "outputs": [
    {
     "data": {
      "image/png": "[encoded data removed]",
      "text/plain": [
       "<matplotlib.figure.Figure at 0x10c590198>"
      ]
     },
     "metadata": {},
     "output_type": "display_data"
    }
   ],
   "source": [
    "performance_df.plot()\n",
    "plt.title(\"Out of Sample PNLs for given Latencies\")\n",
    "plt.xlabel(\"Time in Seconds\")\n",
    "plt.ylabel(\"PNL in Cents\")\n",
    "plt.legend()\n",
    "plt.show()"
   ]
  },
  {
   "cell_type": "code",
   "execution_count": null,
   "metadata": {
    "collapsed": true
   },
   "outputs": [],
   "source": []
  }
 ],
 "metadata": {
  "kernelspec": {
   "display_name": "Python 3",
   "language": "python",
   "name": "python3"
  },
  "language_info": {
   "codemirror_mode": {
    "name": "ipython",
    "version": 3
   },
   "file_extension": ".py",
   "mimetype": "text/x-python",
   "name": "python",
   "nbconvert_exporter": "python",
   "pygments_lexer": "ipython3",
   "version": "3.6.3"
  }
 },
 "nbformat": 4,
 "nbformat_minor": 2
}
