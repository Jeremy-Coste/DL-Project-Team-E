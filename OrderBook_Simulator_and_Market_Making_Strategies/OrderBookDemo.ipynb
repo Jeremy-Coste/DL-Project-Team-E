{
 "cells": [
  {
   "cell_type": "markdown",
   "metadata": {},
   "source": [
    "OrderBook Demo\n",
    "-------------\n",
    "\n",
    "Examples of placing orders, fill probability estimation, and simple strategy backtests"
   ]
  },
  {
   "cell_type": "code",
   "execution_count": 1,
   "metadata": {},
   "outputs": [],
   "source": [
    "#Mosie Schrem\n",
    "import pandas as pd\n",
    "import numpy as np\n",
    "import os\n",
    "import math\n",
    "import sys\n",
    "from matplotlib import pyplot as plt\n",
    "from pylab import rcParams\n",
    "rcParams['figure.figsize'] = 10, 10\n",
    "sys.path.insert(0, os.path.join(os.getcwd(), 'code'))\n",
    "\n",
    "import OrderBook as ob\n",
    "import OrderUtil as ou\n",
    "import FillProbabilitySimulator as fps\n",
    "import TradingStrategySimulator as tss"
   ]
  },
  {
   "cell_type": "markdown",
   "metadata": {},
   "source": [
    "Examples of creating and processing orders:\n",
    "--------"
   ]
  },
  {
   "cell_type": "code",
   "execution_count": 2,
   "metadata": {
    "collapsed": true
   },
   "outputs": [],
   "source": [
    "#load in intc OrderBook data\n",
    "book = ob.OrderBook(message_filename='INTC_message.csv', orderbook_filename='INTC_OrderBook.csv')"
   ]
  },
  {
   "cell_type": "markdown",
   "metadata": {},
   "source": [
    "Create an ask order at level 2, at time 38000, reevaluating order status at every BookUpdate "
   ]
  },
  {
   "cell_type": "code",
   "execution_count": 3,
   "metadata": {},
   "outputs": [
    {
     "name": "stdout",
     "output_type": "stream",
     "text": [
      "{'price': 273800, 'start_time': 38000, 'is_buy': False, 'queue_position': 16646, 'orderstate': 'open', 'level': 2, 'start_index': 131939}\n"
     ]
    }
   ],
   "source": [
    "order = ou.BookUpdatesOrder(orderbook=book, numupdates=1, timestamp=38000, level=2, is_buy=False)\n",
    "print(order.get_opening_stats())"
   ]
  },
  {
   "cell_type": "code",
   "execution_count": 4,
   "metadata": {},
   "outputs": [
    {
     "name": "stdout",
     "output_type": "stream",
     "text": [
      "{'price': 273800, 'time': 38014.459199206, 'is_buy': False, 'queue_position': 16446, 'orderstate': 'open', 'level': 2, 'current_index': 132039}\n"
     ]
    }
   ],
   "source": [
    "#process 100 updates to orderbook\n",
    "for i in range(100):\n",
    "    order.update()\n",
    "print(order.get_current_stats())"
   ]
  },
  {
   "cell_type": "code",
   "execution_count": 5,
   "metadata": {},
   "outputs": [
    {
     "name": "stdout",
     "output_type": "stream",
     "text": [
      "{'price': 273800, 'time': 38015.006473335, 'is_buy': False, 'queue_position': 16346, 'orderstate': 'open', 'level': 2, 'current_index': 132339}\n"
     ]
    }
   ],
   "source": [
    "#process another 300 updates\n",
    "for i in range(300):\n",
    "    order.update()\n",
    "print(order.get_current_stats())"
   ]
  },
  {
   "cell_type": "code",
   "execution_count": 6,
   "metadata": {},
   "outputs": [
    {
     "name": "stdout",
     "output_type": "stream",
     "text": [
      "{'price': 273800, 'time': 38167.621597535, 'is_buy': False, 'queue_position': 0, 'orderstate': 'executed', 'level': 1, 'end_index': 134180}\n"
     ]
    }
   ],
   "source": [
    "#process until executed or cancelled\n",
    "while(order.order_type('open')):\n",
    "    order.update()\n",
    "    \n",
    "#print stats at time when order was executed\n",
    "print(order.get_closing_stats())"
   ]
  },
  {
   "cell_type": "markdown",
   "metadata": {},
   "source": [
    "We can also create orders by timestep of fixed size\n",
    "\n",
    "Create an ask order at level 2, at time 38000, reevaluating order status every 0.5 seconds"
   ]
  },
  {
   "cell_type": "code",
   "execution_count": 7,
   "metadata": {},
   "outputs": [
    {
     "name": "stdout",
     "output_type": "stream",
     "text": [
      "{'price': 273800, 'start_time': 38000, 'is_buy': False, 'queue_position': 16646, 'orderstate': 'open', 'level': 2, 'start_index': 131939}\n"
     ]
    }
   ],
   "source": [
    "order = ou.TimeOrder(orderbook=book, delta_t=0.5, timestamp=38000, level=2, is_buy=False)\n",
    "print(order.get_opening_stats())"
   ]
  },
  {
   "cell_type": "code",
   "execution_count": 8,
   "metadata": {},
   "outputs": [
    {
     "name": "stdout",
     "output_type": "stream",
     "text": [
      "{'price': 273800, 'time': 38049.987429576, 'is_buy': False, 'queue_position': 13946, 'orderstate': 'open', 'level': 3, 'current_index': 132820}\n"
     ]
    }
   ],
   "source": [
    "#process 50 seconds of data\n",
    "for i in range(100):\n",
    "    order.update()\n",
    "print(order.get_current_stats())"
   ]
  },
  {
   "cell_type": "code",
   "execution_count": 9,
   "metadata": {},
   "outputs": [
    {
     "name": "stdout",
     "output_type": "stream",
     "text": [
      "{'price': 273800, 'time': 38167.621597535, 'is_buy': False, 'queue_position': 0, 'orderstate': 'executed', 'level': 1, 'end_index': 134180}\n"
     ]
    }
   ],
   "source": [
    "#process until executed or cancelled\n",
    "while(order.order_type('open')):\n",
    "    order.update()\n",
    "#print stats at time when order was executed\n",
    "print(order.get_closing_stats())"
   ]
  },
  {
   "cell_type": "markdown",
   "metadata": {},
   "source": [
    "Fill Probability Simulation Example:\n",
    "------"
   ]
  },
  {
   "cell_type": "markdown",
   "metadata": {},
   "source": [
    "In the following example, we quote buy and sell orders in the inside market, and reevaluate every 100 BookUpdates"
   ]
  },
  {
   "cell_type": "code",
   "execution_count": 10,
   "metadata": {},
   "outputs": [
    {
     "name": "stdout",
     "output_type": "stream",
     "text": [
      "samples processed so far: 1000.0\n",
      "samples processed so far: 2000.0\n",
      "samples processed so far: 3000.0\n",
      "samples processed so far: 4000.0\n",
      "samples processed so far: 5000.0\n",
      "samples processed so far: 6000.0\n",
      "samples processed so far: 7000.0\n",
      "samples processed so far: 8000.0\n",
      "samples processed so far: 9000.0\n",
      "samples processed so far: 10000.0\n"
     ]
    }
   ],
   "source": [
    "probability_simulator = fps.FillProbabilitySimulator(numupdates=100, order_tuple=([1] , [1]),\n",
    "                                                 orderbook=book, t_start=34200.01, t_end=50000)\n",
    "probability_simulator.generate_matrices(num_samples=10000)"
   ]
  },
  {
   "cell_type": "markdown",
   "metadata": {},
   "source": [
    "Display empirical fill probabilities for given midprice movement -1, 0, and 1\n",
    "\n",
    "Note that bid_level_i_ask_level_j refers to bid orders filled up to level i and ask orders filled up to level j\n",
    "bid_level_0 (ask_level_0) refers to no bids (asks) filled."
   ]
  },
  {
   "cell_type": "code",
   "execution_count": 11,
   "metadata": {},
   "outputs": [
    {
     "data": {
      "text/html": [
       "<div>\n",
       "<style>\n",
       "    .dataframe thead tr:only-child th {\n",
       "        text-align: right;\n",
       "    }\n",
       "\n",
       "    .dataframe thead th {\n",
       "        text-align: left;\n",
       "    }\n",
       "\n",
       "    .dataframe tbody tr th {\n",
       "        vertical-align: top;\n",
       "    }\n",
       "</style>\n",
       "<table border=\"1\" class=\"dataframe\">\n",
       "  <thead>\n",
       "    <tr style=\"text-align: right;\">\n",
       "      <th>y</th>\n",
       "      <th>-1</th>\n",
       "      <th>0</th>\n",
       "      <th>1</th>\n",
       "    </tr>\n",
       "    <tr>\n",
       "      <th>orders_executed</th>\n",
       "      <th></th>\n",
       "      <th></th>\n",
       "      <th></th>\n",
       "    </tr>\n",
       "  </thead>\n",
       "  <tbody>\n",
       "    <tr>\n",
       "      <th>bid_level_0_ask_level_0</th>\n",
       "      <td>0.387223</td>\n",
       "      <td>0.940594</td>\n",
       "      <td>0.373537</td>\n",
       "    </tr>\n",
       "    <tr>\n",
       "      <th>bid_level_0_ask_level_1</th>\n",
       "      <td>0.000000</td>\n",
       "      <td>0.030303</td>\n",
       "      <td>0.621662</td>\n",
       "    </tr>\n",
       "    <tr>\n",
       "      <th>bid_level_1_ask_level_0</th>\n",
       "      <td>0.599580</td>\n",
       "      <td>0.027303</td>\n",
       "      <td>0.000600</td>\n",
       "    </tr>\n",
       "    <tr>\n",
       "      <th>bid_level_1_ask_level_1</th>\n",
       "      <td>0.013197</td>\n",
       "      <td>0.001800</td>\n",
       "      <td>0.004200</td>\n",
       "    </tr>\n",
       "  </tbody>\n",
       "</table>\n",
       "</div>"
      ],
      "text/plain": [
       "y                              -1         0         1\n",
       "orders_executed                                      \n",
       "bid_level_0_ask_level_0  0.387223  0.940594  0.373537\n",
       "bid_level_0_ask_level_1  0.000000  0.030303  0.621662\n",
       "bid_level_1_ask_level_0  0.599580  0.027303  0.000600\n",
       "bid_level_1_ask_level_1  0.013197  0.001800  0.004200"
      ]
     },
     "execution_count": 11,
     "metadata": {},
     "output_type": "execute_result"
    }
   ],
   "source": [
    "fill_matrix = probability_simulator.get_prob_matrix()\n",
    "fill_matrix"
   ]
  },
  {
   "cell_type": "markdown",
   "metadata": {},
   "source": [
    "Display frequencies of midprice movements in our sample"
   ]
  },
  {
   "cell_type": "code",
   "execution_count": 12,
   "metadata": {},
   "outputs": [
    {
     "name": "stdout",
     "output_type": "stream",
     "text": [
      "{-1: 3334, 0: 3333, 1: 3333}\n"
     ]
    }
   ],
   "source": [
    "print(probability_simulator.get_quantities())"
   ]
  },
  {
   "cell_type": "markdown",
   "metadata": {},
   "source": [
    "Here we display the cumulative distribution of our fill probability matrix"
   ]
  },
  {
   "cell_type": "code",
   "execution_count": 13,
   "metadata": {},
   "outputs": [
    {
     "data": {
      "text/html": [
       "<div>\n",
       "<style>\n",
       "    .dataframe thead tr:only-child th {\n",
       "        text-align: right;\n",
       "    }\n",
       "\n",
       "    .dataframe thead th {\n",
       "        text-align: left;\n",
       "    }\n",
       "\n",
       "    .dataframe tbody tr th {\n",
       "        vertical-align: top;\n",
       "    }\n",
       "</style>\n",
       "<table border=\"1\" class=\"dataframe\">\n",
       "  <thead>\n",
       "    <tr style=\"text-align: right;\">\n",
       "      <th>y</th>\n",
       "      <th>-1</th>\n",
       "      <th>0</th>\n",
       "      <th>1</th>\n",
       "    </tr>\n",
       "    <tr>\n",
       "      <th>orders_executed</th>\n",
       "      <th></th>\n",
       "      <th></th>\n",
       "      <th></th>\n",
       "    </tr>\n",
       "  </thead>\n",
       "  <tbody>\n",
       "    <tr>\n",
       "      <th>bid_level_0_ask_level_0</th>\n",
       "      <td>1.000000</td>\n",
       "      <td>1.000000</td>\n",
       "      <td>1.000000</td>\n",
       "    </tr>\n",
       "    <tr>\n",
       "      <th>bid_level_0_ask_level_1</th>\n",
       "      <td>0.013197</td>\n",
       "      <td>0.032103</td>\n",
       "      <td>0.625863</td>\n",
       "    </tr>\n",
       "    <tr>\n",
       "      <th>bid_level_1_ask_level_0</th>\n",
       "      <td>0.612777</td>\n",
       "      <td>0.029103</td>\n",
       "      <td>0.004800</td>\n",
       "    </tr>\n",
       "    <tr>\n",
       "      <th>bid_level_1_ask_level_1</th>\n",
       "      <td>0.013197</td>\n",
       "      <td>0.001800</td>\n",
       "      <td>0.004200</td>\n",
       "    </tr>\n",
       "  </tbody>\n",
       "</table>\n",
       "</div>"
      ],
      "text/plain": [
       "y                              -1         0         1\n",
       "orders_executed                                      \n",
       "bid_level_0_ask_level_0  1.000000  1.000000  1.000000\n",
       "bid_level_0_ask_level_1  0.013197  0.032103  0.625863\n",
       "bid_level_1_ask_level_0  0.612777  0.029103  0.004800\n",
       "bid_level_1_ask_level_1  0.013197  0.001800  0.004200"
      ]
     },
     "execution_count": 13,
     "metadata": {},
     "output_type": "execute_result"
    }
   ],
   "source": [
    "cum_mat = probability_simulator.get_cum_prob_matrix()\n",
    "cum_mat"
   ]
  },
  {
   "cell_type": "markdown",
   "metadata": {},
   "source": [
    "Display PNLs"
   ]
  },
  {
   "cell_type": "code",
   "execution_count": 14,
   "metadata": {},
   "outputs": [
    {
     "data": {
      "text/html": [
       "<div>\n",
       "<style>\n",
       "    .dataframe thead tr:only-child th {\n",
       "        text-align: right;\n",
       "    }\n",
       "\n",
       "    .dataframe thead th {\n",
       "        text-align: left;\n",
       "    }\n",
       "\n",
       "    .dataframe tbody tr th {\n",
       "        vertical-align: top;\n",
       "    }\n",
       "</style>\n",
       "<table border=\"1\" class=\"dataframe\">\n",
       "  <thead>\n",
       "    <tr style=\"text-align: right;\">\n",
       "      <th>y</th>\n",
       "      <th>-1</th>\n",
       "      <th>0</th>\n",
       "      <th>1</th>\n",
       "    </tr>\n",
       "    <tr>\n",
       "      <th>orders placed</th>\n",
       "      <th></th>\n",
       "      <th></th>\n",
       "      <th></th>\n",
       "    </tr>\n",
       "  </thead>\n",
       "  <tbody>\n",
       "    <tr>\n",
       "      <th>bids: [1],  asks: [1]</th>\n",
       "      <td>-19.91</td>\n",
       "      <td>0.06</td>\n",
       "      <td>-20.69</td>\n",
       "    </tr>\n",
       "  </tbody>\n",
       "</table>\n",
       "</div>"
      ],
      "text/plain": [
       "y                         -1     0      1\n",
       "orders placed                            \n",
       "bids: [1],  asks: [1] -19.91  0.06 -20.69"
      ]
     },
     "execution_count": 14,
     "metadata": {},
     "output_type": "execute_result"
    }
   ],
   "source": [
    "pnls = probability_simulator.get_pnls()\n",
    "pnls"
   ]
  },
  {
   "cell_type": "markdown",
   "metadata": {},
   "source": [
    "Loss Function Estimation\n",
    "-------------"
   ]
  },
  {
   "cell_type": "markdown",
   "metadata": {},
   "source": [
    "Here we approximate our loss function to feed into our Neural Network using a similar approach to the fill probability simulation.\n",
    "\n",
    "We use the same strategy as we did for the above backtest example"
   ]
  },
  {
   "cell_type": "code",
   "execution_count": 15,
   "metadata": {},
   "outputs": [
    {
     "name": "stdout",
     "output_type": "stream",
     "text": [
      "simulating strategy for case yhat = 1...\n",
      "\n",
      "samples processed so far: 1000.0\n",
      "samples processed so far: 2000.0\n",
      "samples processed so far: 3000.0\n",
      "samples processed so far: 4000.0\n",
      "samples processed so far: 5000.0\n",
      "samples processed so far: 6000.0\n",
      "samples processed so far: 7000.0\n",
      "samples processed so far: 8000.0\n",
      "samples processed so far: 9000.0\n",
      "samples processed so far: 10000.0\n",
      "simulating strategy for case yhat = 0...\n",
      "\n",
      "samples processed so far: 1000.0\n",
      "samples processed so far: 2000.0\n",
      "samples processed so far: 3000.0\n",
      "samples processed so far: 4000.0\n",
      "samples processed so far: 5000.0\n",
      "samples processed so far: 6000.0\n",
      "samples processed so far: 7000.0\n",
      "samples processed so far: 8000.0\n",
      "samples processed so far: 9000.0\n",
      "samples processed so far: 10000.0\n",
      "simulating strategy for case yhat = -1...\n",
      "\n",
      "samples processed so far: 1000.0\n",
      "samples processed so far: 2000.0\n",
      "samples processed so far: 3000.0\n",
      "samples processed so far: 4000.0\n",
      "samples processed so far: 5000.0\n",
      "samples processed so far: 6000.0\n",
      "samples processed so far: 7000.0\n",
      "samples processed so far: 8000.0\n",
      "samples processed so far: 9000.0\n",
      "samples processed so far: 10000.0\n"
     ]
    }
   ],
   "source": [
    "strategy = {1: ([1], [2]), 0: ([1], [1]), -1 : ([2], [1])}\n",
    "loss_func = fps.LossFunction(strategy=strategy, book=book, numupdates=100, t_end=50000, uniform_sampling=True)\n",
    "loss_func.generate_loss_function_and_fill_probabilities(num_samples=10000)"
   ]
  },
  {
   "cell_type": "markdown",
   "metadata": {},
   "source": [
    "Loss Matrix Below based on average PNL in given case (-loss are cases where our strategy yields a profit)"
   ]
  },
  {
   "cell_type": "code",
   "execution_count": 16,
   "metadata": {},
   "outputs": [
    {
     "data": {
      "text/html": [
       "<div>\n",
       "<style>\n",
       "    .dataframe thead tr:only-child th {\n",
       "        text-align: right;\n",
       "    }\n",
       "\n",
       "    .dataframe thead th {\n",
       "        text-align: left;\n",
       "    }\n",
       "\n",
       "    .dataframe tbody tr th {\n",
       "        vertical-align: top;\n",
       "    }\n",
       "</style>\n",
       "<table border=\"1\" class=\"dataframe\">\n",
       "  <thead>\n",
       "    <tr style=\"text-align: right;\">\n",
       "      <th>y_true:</th>\n",
       "      <th>-1</th>\n",
       "      <th>0</th>\n",
       "      <th>1</th>\n",
       "    </tr>\n",
       "    <tr>\n",
       "      <th>y_predicted</th>\n",
       "      <th></th>\n",
       "      <th></th>\n",
       "      <th></th>\n",
       "    </tr>\n",
       "  </thead>\n",
       "  <tbody>\n",
       "    <tr>\n",
       "      <th>-1</th>\n",
       "      <td>0.17</td>\n",
       "      <td>-0</td>\n",
       "      <td>21.18</td>\n",
       "    </tr>\n",
       "    <tr>\n",
       "      <th>0</th>\n",
       "      <td>20.12</td>\n",
       "      <td>-0.03</td>\n",
       "      <td>20.35</td>\n",
       "    </tr>\n",
       "    <tr>\n",
       "      <th>1</th>\n",
       "      <td>20.77</td>\n",
       "      <td>-0.01</td>\n",
       "      <td>0.1</td>\n",
       "    </tr>\n",
       "  </tbody>\n",
       "</table>\n",
       "</div>"
      ],
      "text/plain": [
       "y_true:         -1     0      1\n",
       "y_predicted                    \n",
       "-1            0.17    -0  21.18\n",
       " 0           20.12 -0.03  20.35\n",
       " 1           20.77 -0.01    0.1"
      ]
     },
     "execution_count": 16,
     "metadata": {},
     "output_type": "execute_result"
    }
   ],
   "source": [
    "loss_function_matrix = loss_func.get_loss_matrix()\n",
    "loss_function_matrix.head()"
   ]
  },
  {
   "cell_type": "markdown",
   "metadata": {},
   "source": [
    "Fill Probabilities for each strategy"
   ]
  },
  {
   "cell_type": "code",
   "execution_count": 17,
   "metadata": {},
   "outputs": [
    {
     "name": "stdout",
     "output_type": "stream",
     "text": [
      "\n",
      "Fill probabilities for yhat: 1, and trade: ([1], [2])\n",
      "y                              -1         0         1\n",
      "orders_executed                                      \n",
      "bid_level_0_ask_level_0  0.388122  0.968497  0.969997\n",
      "bid_level_0_ask_level_2  0.000000  0.000300  0.021902\n",
      "bid_level_1_ask_level_0  0.611878  0.031203  0.003900\n",
      "bid_level_1_ask_level_2  0.000000  0.000000  0.004200\n",
      "\n",
      "Fill probabilities for yhat: 0, and trade: ([1], [1])\n",
      "y                              -1         0         1\n",
      "orders_executed                                      \n",
      "bid_level_0_ask_level_0  0.386323  0.945095  0.381338\n",
      "bid_level_0_ask_level_1  0.000000  0.027003  0.612961\n",
      "bid_level_1_ask_level_0  0.602579  0.027003  0.001500\n",
      "bid_level_1_ask_level_1  0.011098  0.000900  0.004200\n",
      "\n",
      "Fill probabilities for yhat: -1, and trade: ([2], [1])\n",
      "y                              -1         0         1\n",
      "orders_executed                                      \n",
      "bid_level_0_ask_level_0  0.968506  0.967597  0.368437\n",
      "bid_level_0_ask_level_1  0.010798  0.032403  0.630063\n",
      "bid_level_2_ask_level_0  0.019796  0.000000  0.001500\n",
      "bid_level_2_ask_level_1  0.000900  0.000000  0.000000\n"
     ]
    }
   ],
   "source": [
    "for key in strategy:\n",
    "    print(\"\\nFill probabilities for yhat: \" + str(key) + \", and trade: \" + str(strategy[key]))\n",
    "    print(loss_func.get_fill_probabilities()[key])"
   ]
  },
  {
   "cell_type": "code",
   "execution_count": null,
   "metadata": {
    "collapsed": true
   },
   "outputs": [],
   "source": []
  }
 ],
 "metadata": {
  "kernelspec": {
   "display_name": "Python 3",
   "language": "python",
   "name": "python3"
  },
  "language_info": {
   "codemirror_mode": {
    "name": "ipython",
    "version": 3
   },
   "file_extension": ".py",
   "mimetype": "text/x-python",
   "name": "python",
   "nbconvert_exporter": "python",
   "pygments_lexer": "ipython3",
   "version": "3.6.3"
  }
 },
 "nbformat": 4,
 "nbformat_minor": 2
}
