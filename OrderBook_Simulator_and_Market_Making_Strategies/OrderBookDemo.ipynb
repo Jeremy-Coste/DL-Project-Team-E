{
 "cells": [
  {
   "cell_type": "markdown",
   "metadata": {},
   "source": [
    "OrderBook Demo\n",
    "-------------\n",
    "\n",
    "Examples of placing orders"
   ]
  },
  {
   "cell_type": "code",
   "execution_count": 1,
   "metadata": {
    "collapsed": true
   },
   "outputs": [],
   "source": [
    "#Mosie Schrem\n",
    "import pandas as pd\n",
    "import numpy as np\n",
    "import os\n",
    "import math\n",
    "import sys\n",
    "from matplotlib import pyplot as plt\n",
    "from pylab import rcParams\n",
    "rcParams['figure.figsize'] = 10, 10\n",
    "sys.path.insert(0, os.path.join(os.getcwd(), 'code'))\n",
    "\n",
    "import OrderBook as ob\n",
    "import OrderUtil as ou"
   ]
  },
  {
   "cell_type": "markdown",
   "metadata": {},
   "source": [
    "Examples of creating and processing orders:\n",
    "--------"
   ]
  },
  {
   "cell_type": "code",
   "execution_count": 2,
   "metadata": {
    "collapsed": true
   },
   "outputs": [],
   "source": [
    "#load in intc OrderBook data\n",
    "book = ob.OrderBook(message_filename='INTC_message.csv', orderbook_filename='INTC_OrderBook.csv')"
   ]
  },
  {
   "cell_type": "code",
   "execution_count": 3,
   "metadata": {
    "collapsed": true
   },
   "outputs": [],
   "source": [
    "limit_book = book.limit_order_book()\n",
    "limit_book['mid'] = limit_book['ap1'] - limit_book['bp1']\n",
    "limit_book = limit_book.loc[(limit_book['ap1'] - limit_book['bp1']).shift(1) >= \n",
    "                            limit_book['ap1'] - limit_book['bp1']]\n",
    "limit_book = limit_book.loc[limit_book['mid'].shift(1) != limit_book['mid']]\n",
    "limit_book['label'] = [1 if limit_book['mid'].shift(1).values[i] < limit_book['mid'].values[i] else -1\n",
    "                      for i in range(len(limit_book))]"
   ]
  },
  {
   "cell_type": "code",
   "execution_count": 4,
   "metadata": {},
   "outputs": [
    {
     "name": "stdout",
     "output_type": "stream",
     "text": [
      "2956\n"
     ]
    }
   ],
   "source": [
    "print(len(limit_book))"
   ]
  },
  {
   "cell_type": "markdown",
   "metadata": {},
   "source": [
    "Create an ask order at level 2, at time 38000\n",
    "-------\n",
    "We reevaluate order status at every BookUpdate "
   ]
  },
  {
   "cell_type": "code",
   "execution_count": 5,
   "metadata": {},
   "outputs": [
    {
     "name": "stdout",
     "output_type": "stream",
     "text": [
      "{'price': 273800, 'start_time': 38000, 'is_buy': False, 'queue_position': 16646, 'orderstate': 'open', 'level': 2, 'start_index': 131939}\n"
     ]
    }
   ],
   "source": [
    "order = ou.BookUpdatesOrder(orderbook=book, numupdates=1, timestamp=38000, level=2, is_buy=False)\n",
    "print(order.get_opening_stats())"
   ]
  },
  {
   "cell_type": "code",
   "execution_count": 6,
   "metadata": {},
   "outputs": [
    {
     "name": "stdout",
     "output_type": "stream",
     "text": [
      "{'price': 273800, 'time': 38014.459199206, 'is_buy': False, 'queue_position': 16446, 'orderstate': 'open', 'level': 2, 'current_index': 132039}\n"
     ]
    }
   ],
   "source": [
    "#process 100 updates to orderbook\n",
    "for i in range(100):\n",
    "    order.update()\n",
    "print(order.get_current_stats())"
   ]
  },
  {
   "cell_type": "code",
   "execution_count": 7,
   "metadata": {},
   "outputs": [
    {
     "name": "stdout",
     "output_type": "stream",
     "text": [
      "{'price': 273800, 'time': 38015.006473335, 'is_buy': False, 'queue_position': 16346, 'orderstate': 'open', 'level': 2, 'current_index': 132339}\n"
     ]
    }
   ],
   "source": [
    "#process another 300 updates\n",
    "for i in range(300):\n",
    "    order.update()\n",
    "print(order.get_current_stats())"
   ]
  },
  {
   "cell_type": "code",
   "execution_count": 8,
   "metadata": {},
   "outputs": [
    {
     "name": "stdout",
     "output_type": "stream",
     "text": [
      "{'price': 273800, 'time': 38167.621597535, 'is_buy': False, 'queue_position': 0, 'orderstate': 'executed', 'level': 1, 'end_index': 134180}\n"
     ]
    }
   ],
   "source": [
    "#process until executed or cancelled\n",
    "while(order.order_type('open')):\n",
    "    order.update()\n",
    "    \n",
    "#print stats at time when order was executed\n",
    "print(order.get_closing_stats())"
   ]
  },
  {
   "cell_type": "markdown",
   "metadata": {},
   "source": [
    "We can also create orders by timestep of fixed size\n",
    "--------\n",
    "\n",
    "Create an ask order at level 2, at time 38000, reevaluating order status every 0.5 seconds"
   ]
  },
  {
   "cell_type": "code",
   "execution_count": 9,
   "metadata": {},
   "outputs": [
    {
     "name": "stdout",
     "output_type": "stream",
     "text": [
      "{'price': 273800, 'start_time': 38000, 'is_buy': False, 'queue_position': 16646, 'orderstate': 'open', 'level': 2, 'start_index': 131939}\n"
     ]
    }
   ],
   "source": [
    "order = ou.TimeOrder(orderbook=book, delta_t=0.5, timestamp=38000, level=2, is_buy=False)\n",
    "print(order.get_opening_stats())"
   ]
  },
  {
   "cell_type": "code",
   "execution_count": 10,
   "metadata": {},
   "outputs": [
    {
     "name": "stdout",
     "output_type": "stream",
     "text": [
      "{'price': 273800, 'time': 38049.987429576, 'is_buy': False, 'queue_position': 13946, 'orderstate': 'open', 'level': 3, 'current_index': 132820}\n"
     ]
    }
   ],
   "source": [
    "#process 50 seconds of data\n",
    "for i in range(100):\n",
    "    order.update()\n",
    "print(order.get_current_stats())"
   ]
  },
  {
   "cell_type": "code",
   "execution_count": 11,
   "metadata": {},
   "outputs": [
    {
     "name": "stdout",
     "output_type": "stream",
     "text": [
      "{'price': 273800, 'time': 38167.621597535, 'is_buy': False, 'queue_position': 0, 'orderstate': 'executed', 'level': 1, 'end_index': 134180}\n"
     ]
    }
   ],
   "source": [
    "#process until executed or cancelled\n",
    "while(order.order_type('open')):\n",
    "    order.update()\n",
    "#print stats at time when order was executed\n",
    "print(order.get_closing_stats())"
   ]
  }
 ],
 "metadata": {
  "kernelspec": {
   "display_name": "Python 3",
   "language": "python",
   "name": "python3"
  },
  "language_info": {
   "codemirror_mode": {
    "name": "ipython",
    "version": 3
   },
   "file_extension": ".py",
   "mimetype": "text/x-python",
   "name": "python",
   "nbconvert_exporter": "python",
   "pygments_lexer": "ipython3",
   "version": "3.6.3"
  }
 },
 "nbformat": 4,
 "nbformat_minor": 2
}
