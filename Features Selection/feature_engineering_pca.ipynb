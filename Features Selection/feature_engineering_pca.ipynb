{
 "cells": [
  {
   "cell_type": "markdown",
   "metadata": {
    "ExecuteTime": {
     "end_time": "2018-10-02T12:44:09.131674Z",
     "start_time": "2018-10-02T12:44:09.129175Z"
    }
   },
   "source": [
    "# Import"
   ]
  },
  {
   "cell_type": "code",
   "execution_count": 1,
   "metadata": {
    "ExecuteTime": {
     "end_time": "2018-10-03T22:38:03.460211Z",
     "start_time": "2018-10-03T22:37:49.443514Z"
    },
    "scrolled": true
   },
   "outputs": [
    {
     "name": "stderr",
     "output_type": "stream",
     "text": [
      "/Users/meihuaren/anaconda3/lib/python3.6/site-packages/h5py/__init__.py:36: FutureWarning: Conversion of the second argument of issubdtype from `float` to `np.floating` is deprecated. In future, it will be treated as `np.float64 == np.dtype(float).type`.\n",
      "  from ._conv import register_converters as _register_converters\n"
     ]
    }
   ],
   "source": [
    "import tensorflow as tf\n",
    "import argparse\n",
    "# Needed for PCA\n",
    "from sklearn import decomposition\n",
    "\n",
    "import numpy as np\n",
    "import pandas as pd"
   ]
  },
  {
   "cell_type": "code",
   "execution_count": 2,
   "metadata": {},
   "outputs": [],
   "source": [
    "all_features = pd.read_csv('all_features_new_64.csv')\n",
    "\n",
    "# After PCA or AutoEncoder，features do not contain 'ask_price_1' and 'bid_price_1', \n",
    "# thus, we calculate and store the label first though there is no use in the feature selection part.\n",
    "data = all_features.fillna(method='ffill')\n",
    "data['mid_price'] = (data['ask_price_1'] + data['bid_price_1']) / 2\n",
    "data['d_price'] = data['mid_price'].diff().shift(-1)\n",
    "data['label'] = 1*(data['d_price']>0) - 1*(data['d_price']<0)\n",
    "data = data.dropna() # drop the first 6 rows (with some nan features) and the last row (with nan 'd_price')\n",
    "data = data.drop(['mid_price', 'd_price'], axis=1)\n",
    "\n",
    "data = data.reset_index()\n",
    "data = data.drop(['index'], axis=1)"
   ]
  },
  {
   "cell_type": "code",
   "execution_count": 3,
   "metadata": {},
   "outputs": [
    {
     "name": "stdout",
     "output_type": "stream",
     "text": [
      "(581023, 65)\n"
     ]
    },
    {
     "data": {
      "text/html": [
       "<div>\n",
       "<style scoped>\n",
       "    .dataframe tbody tr th:only-of-type {\n",
       "        vertical-align: middle;\n",
       "    }\n",
       "\n",
       "    .dataframe tbody tr th {\n",
       "        vertical-align: top;\n",
       "    }\n",
       "\n",
       "    .dataframe thead th {\n",
       "        text-align: right;\n",
       "    }\n",
       "</style>\n",
       "<table border=\"1\" class=\"dataframe\">\n",
       "  <thead>\n",
       "    <tr style=\"text-align: right;\">\n",
       "      <th></th>\n",
       "      <th>ask_price_1</th>\n",
       "      <th>ask_vol_1</th>\n",
       "      <th>bid_price_1</th>\n",
       "      <th>bid_vol_1</th>\n",
       "      <th>ask_price_2</th>\n",
       "      <th>ask_vol_2</th>\n",
       "      <th>bid_price_2</th>\n",
       "      <th>bid_vol_2</th>\n",
       "      <th>ask_price_3</th>\n",
       "      <th>ask_vol_3</th>\n",
       "      <th>...</th>\n",
       "      <th>rank_bid_vol_4</th>\n",
       "      <th>rank_ask_vol_4</th>\n",
       "      <th>rank_bid_vol_5</th>\n",
       "      <th>rank_ask_vol_5</th>\n",
       "      <th>corr_vol_1</th>\n",
       "      <th>corr_vol_2</th>\n",
       "      <th>corr_vol_3</th>\n",
       "      <th>corr_vol_4</th>\n",
       "      <th>corr_vol_5</th>\n",
       "      <th>label</th>\n",
       "    </tr>\n",
       "  </thead>\n",
       "  <tbody>\n",
       "    <tr>\n",
       "      <th>0</th>\n",
       "      <td>275200</td>\n",
       "      <td>166</td>\n",
       "      <td>275100</td>\n",
       "      <td>300</td>\n",
       "      <td>275300</td>\n",
       "      <td>1000</td>\n",
       "      <td>275000</td>\n",
       "      <td>100</td>\n",
       "      <td>275400</td>\n",
       "      <td>373</td>\n",
       "      <td>...</td>\n",
       "      <td>1.0</td>\n",
       "      <td>1.0</td>\n",
       "      <td>0.714286</td>\n",
       "      <td>1.0</td>\n",
       "      <td>-0.353553</td>\n",
       "      <td>-1.0</td>\n",
       "      <td>-1.0</td>\n",
       "      <td>-1.0</td>\n",
       "      <td>1.0</td>\n",
       "      <td>0</td>\n",
       "    </tr>\n",
       "    <tr>\n",
       "      <th>1</th>\n",
       "      <td>275200</td>\n",
       "      <td>166</td>\n",
       "      <td>275100</td>\n",
       "      <td>300</td>\n",
       "      <td>275300</td>\n",
       "      <td>1000</td>\n",
       "      <td>275000</td>\n",
       "      <td>100</td>\n",
       "      <td>275400</td>\n",
       "      <td>373</td>\n",
       "      <td>...</td>\n",
       "      <td>1.0</td>\n",
       "      <td>1.0</td>\n",
       "      <td>0.750000</td>\n",
       "      <td>1.0</td>\n",
       "      <td>-0.377964</td>\n",
       "      <td>-1.0</td>\n",
       "      <td>-1.0</td>\n",
       "      <td>-1.0</td>\n",
       "      <td>1.0</td>\n",
       "      <td>0</td>\n",
       "    </tr>\n",
       "    <tr>\n",
       "      <th>2</th>\n",
       "      <td>275200</td>\n",
       "      <td>166</td>\n",
       "      <td>275100</td>\n",
       "      <td>300</td>\n",
       "      <td>275300</td>\n",
       "      <td>1000</td>\n",
       "      <td>275000</td>\n",
       "      <td>100</td>\n",
       "      <td>275400</td>\n",
       "      <td>373</td>\n",
       "      <td>...</td>\n",
       "      <td>1.0</td>\n",
       "      <td>1.0</td>\n",
       "      <td>1.000000</td>\n",
       "      <td>1.0</td>\n",
       "      <td>-0.395285</td>\n",
       "      <td>-1.0</td>\n",
       "      <td>-1.0</td>\n",
       "      <td>-1.0</td>\n",
       "      <td>1.0</td>\n",
       "      <td>0</td>\n",
       "    </tr>\n",
       "    <tr>\n",
       "      <th>3</th>\n",
       "      <td>275200</td>\n",
       "      <td>166</td>\n",
       "      <td>275100</td>\n",
       "      <td>300</td>\n",
       "      <td>275300</td>\n",
       "      <td>1000</td>\n",
       "      <td>275000</td>\n",
       "      <td>300</td>\n",
       "      <td>275400</td>\n",
       "      <td>373</td>\n",
       "      <td>...</td>\n",
       "      <td>1.0</td>\n",
       "      <td>1.0</td>\n",
       "      <td>1.000000</td>\n",
       "      <td>1.0</td>\n",
       "      <td>-0.408248</td>\n",
       "      <td>-1.0</td>\n",
       "      <td>-1.0</td>\n",
       "      <td>-1.0</td>\n",
       "      <td>1.0</td>\n",
       "      <td>0</td>\n",
       "    </tr>\n",
       "    <tr>\n",
       "      <th>4</th>\n",
       "      <td>275200</td>\n",
       "      <td>100</td>\n",
       "      <td>275100</td>\n",
       "      <td>300</td>\n",
       "      <td>275300</td>\n",
       "      <td>1000</td>\n",
       "      <td>275000</td>\n",
       "      <td>300</td>\n",
       "      <td>275400</td>\n",
       "      <td>373</td>\n",
       "      <td>...</td>\n",
       "      <td>1.0</td>\n",
       "      <td>1.0</td>\n",
       "      <td>1.000000</td>\n",
       "      <td>1.0</td>\n",
       "      <td>-0.228210</td>\n",
       "      <td>1.0</td>\n",
       "      <td>-1.0</td>\n",
       "      <td>1.0</td>\n",
       "      <td>1.0</td>\n",
       "      <td>1</td>\n",
       "    </tr>\n",
       "  </tbody>\n",
       "</table>\n",
       "<p>5 rows × 65 columns</p>\n",
       "</div>"
      ],
      "text/plain": [
       "   ask_price_1  ask_vol_1  bid_price_1  bid_vol_1  ask_price_2  ask_vol_2  \\\n",
       "0       275200        166       275100        300       275300       1000   \n",
       "1       275200        166       275100        300       275300       1000   \n",
       "2       275200        166       275100        300       275300       1000   \n",
       "3       275200        166       275100        300       275300       1000   \n",
       "4       275200        100       275100        300       275300       1000   \n",
       "\n",
       "   bid_price_2  bid_vol_2  ask_price_3  ask_vol_3  ...    rank_bid_vol_4  \\\n",
       "0       275000        100       275400        373  ...               1.0   \n",
       "1       275000        100       275400        373  ...               1.0   \n",
       "2       275000        100       275400        373  ...               1.0   \n",
       "3       275000        300       275400        373  ...               1.0   \n",
       "4       275000        300       275400        373  ...               1.0   \n",
       "\n",
       "   rank_ask_vol_4  rank_bid_vol_5  rank_ask_vol_5  corr_vol_1  corr_vol_2  \\\n",
       "0             1.0        0.714286             1.0   -0.353553        -1.0   \n",
       "1             1.0        0.750000             1.0   -0.377964        -1.0   \n",
       "2             1.0        1.000000             1.0   -0.395285        -1.0   \n",
       "3             1.0        1.000000             1.0   -0.408248        -1.0   \n",
       "4             1.0        1.000000             1.0   -0.228210         1.0   \n",
       "\n",
       "   corr_vol_3  corr_vol_4  corr_vol_5  label  \n",
       "0        -1.0        -1.0         1.0      0  \n",
       "1        -1.0        -1.0         1.0      0  \n",
       "2        -1.0        -1.0         1.0      0  \n",
       "3        -1.0        -1.0         1.0      0  \n",
       "4        -1.0         1.0         1.0      1  \n",
       "\n",
       "[5 rows x 65 columns]"
      ]
     },
     "execution_count": 3,
     "metadata": {},
     "output_type": "execute_result"
    }
   ],
   "source": [
    "print(data.shape)\n",
    "data.head()"
   ]
  },
  {
   "cell_type": "code",
   "execution_count": 4,
   "metadata": {},
   "outputs": [],
   "source": [
    "train_weight = 0.8\n",
    "split = int(data.shape[0] * train_weight)\n",
    "df_train = data.iloc[:split,:-1]\n",
    "df_test = data.iloc[split:,:-1]\n",
    "\n",
    "nrow = 3000\n",
    "df_valid = df_test[0:nrow]\n",
    "df_test = df_test[nrow:]\n",
    "\n",
    "x_train = df_train.values\n",
    "x_valid = df_valid.values\n",
    "x_test = df_test.values\n",
    "x_all = data.iloc[:,:-1].values"
   ]
  },
  {
   "cell_type": "code",
   "execution_count": 5,
   "metadata": {},
   "outputs": [],
   "source": [
    "#normalization (to make sure the autoencoder is converging)\n",
    "x_max = np.max(x_train,axis=0)\n",
    "x_min = np.min(x_train,axis=0)\n",
    "x_train = (x_train - x_min) / (x_max - x_min)\n",
    "x_valid = (x_valid - x_min) / (x_max - x_min)\n",
    "x_test = (x_test - x_min) / (x_max - x_min)\n",
    "x_all = (x_all - x_min) / (x_max - x_min)"
   ]
  },
  {
   "cell_type": "code",
   "execution_count": 6,
   "metadata": {},
   "outputs": [
    {
     "name": "stdout",
     "output_type": "stream",
     "text": [
      "(464818, 64) (3000, 64) (113205, 64) (581023, 64)\n"
     ]
    }
   ],
   "source": [
    "print(x_train.shape, x_valid.shape, x_test.shape, x_all.shape)"
   ]
  },
  {
   "cell_type": "markdown",
   "metadata": {
    "ExecuteTime": {
     "end_time": "2018-10-02T12:44:09.131674Z",
     "start_time": "2018-10-02T12:44:09.129175Z"
    }
   },
   "source": [
    "# Main Function - Performing PCA and Extracting Features"
   ]
  },
  {
   "cell_type": "code",
   "execution_count": 8,
   "metadata": {},
   "outputs": [
    {
     "name": "stdout",
     "output_type": "stream",
     "text": [
      "Performing PCA\n",
      "PCA Codes\n",
      "[[ 1.54546976 -0.35170054  0.40688107 ... -0.14447155  0.32958309\n",
      "  -0.56119337]\n",
      " [ 1.54567115 -0.36167127  0.35556218 ... -0.1491005   0.32460311\n",
      "  -0.56323576]\n",
      " [ 1.54924064 -0.41707433  0.31277762 ... -0.1385274   0.3231948\n",
      "  -0.56224606]\n",
      " ...\n",
      " [-1.99492394  1.01697829  0.51508533 ...  0.39980994 -0.10465375\n",
      "   0.3867314 ]\n",
      " [-1.99332415  1.12626926  0.57587923 ...  0.45153467 -0.06226303\n",
      "   0.38756204]\n",
      " [-1.99260899  1.10210904  0.6048412  ...  0.48211453 -0.04522636\n",
      "   0.38859466]]\n"
     ]
    }
   ],
   "source": [
    "if __name__ == '__main__':\n",
    "\n",
    "    #feel free to change with your own\n",
    "    new_features_resultpath = '/Users/meihuaren/personal/OR_2018fall/Courses/E4720 Deep Learning/project_coding/Team E_code/'\n",
    "    \n",
    "    #=====================================\n",
    "    # PCA\n",
    "    print ('Performing PCA')\n",
    "    pca = decomposition.PCA(n_components=0.9) # 0.95 or 0.9\n",
    "    pca.fit(x_train) # use train data for feature selection in order to avoid look ahead bias\n",
    "    print('PCA Codes')\n",
    "    pca_codes = pca.transform(x_all)\n",
    "    print(pca_codes)\n",
    "    pca_codes_df = pd.DataFrame(pca_codes)\n",
    "    features64_new_pca = pd.concat([pca_codes_df,data.iloc[:,-1]],axis = 1)\n",
    "    filename = new_features_resultpath + 'features64_new_pca.csv'\n",
    "    features64_new_pca.to_csv(filename, index=False)\n",
    "    \n",
    "    '''\n",
    "    print('Re-Constructing')\n",
    "    # transform data into its original space\n",
    "    pca_reconstructed = pca.inverse_transform(pca_codes[:20])\n",
    "    #print(pca_reconstructed)\n",
    "    '''"
   ]
  },
  {
   "cell_type": "code",
   "execution_count": null,
   "metadata": {},
   "outputs": [],
   "source": []
  }
 ],
 "metadata": {
  "kernelspec": {
   "display_name": "Python 3",
   "language": "python",
   "name": "python3"
  },
  "language_info": {
   "codemirror_mode": {
    "name": "ipython",
    "version": 3
   },
   "file_extension": ".py",
   "mimetype": "text/x-python",
   "name": "python",
   "nbconvert_exporter": "python",
   "pygments_lexer": "ipython3",
   "version": "3.6.5"
  },
  "toc": {
   "nav_menu": {},
   "number_sections": true,
   "sideBar": true,
   "skip_h1_title": false,
   "title_cell": "Table of Contents",
   "title_sidebar": "Contents",
   "toc_cell": false,
   "toc_position": {},
   "toc_section_display": true,
   "toc_window_display": false
  },
  "varInspector": {
   "cols": {
    "lenName": 16,
    "lenType": 16,
    "lenVar": 40
   },
   "kernels_config": {
    "python": {
     "delete_cmd_postfix": "",
     "delete_cmd_prefix": "del ",
     "library": "var_list.py",
     "varRefreshCmd": "print(var_dic_list())"
    },
    "r": {
     "delete_cmd_postfix": ") ",
     "delete_cmd_prefix": "rm(",
     "library": "var_list.r",
     "varRefreshCmd": "cat(var_dic_list()) "
    }
   },
   "types_to_exclude": [
    "module",
    "function",
    "builtin_function_or_method",
    "instance",
    "_Feature"
   ],
   "window_display": false
  }
 },
 "nbformat": 4,
 "nbformat_minor": 2
}
