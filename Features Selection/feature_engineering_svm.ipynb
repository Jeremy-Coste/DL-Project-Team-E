{
 "cells": [
  {
   "cell_type": "markdown",
   "metadata": {
    "ExecuteTime": {
     "end_time": "2018-10-02T12:44:09.131674Z",
     "start_time": "2018-10-02T12:44:09.129175Z"
    }
   },
   "source": [
    "# Import"
   ]
  },
  {
   "cell_type": "code",
   "execution_count": 1,
   "metadata": {
    "ExecuteTime": {
     "end_time": "2018-10-03T22:38:03.460211Z",
     "start_time": "2018-10-03T22:37:49.443514Z"
    },
    "scrolled": true
   },
   "outputs": [],
   "source": [
    "import tensorflow as tf\n",
    "import argparse\n",
    "\n",
    "# Needed for SVM\n",
    "from sklearn.svm import LinearSVC\n",
    "\n",
    "import numpy as np\n",
    "import pandas as pd"
   ]
  },
  {
   "cell_type": "code",
   "execution_count": 2,
   "metadata": {},
   "outputs": [],
   "source": [
    "all_features = pd.read_csv('all_features_new_64.csv')\n",
    "\n",
    "# After PCA or AutoEncoder，features do not contain 'ask_price_1' and 'bid_price_1', \n",
    "# thus, we calculate and store the label first though there is no use in the feature selection part.\n",
    "data = all_features.fillna(method='ffill')\n",
    "data['mid_price'] = (data['ask_price_1'] + data['bid_price_1']) / 2\n",
    "data['d_price'] = data['mid_price'].diff().shift(-1)\n",
    "data['label'] = 1*(data['d_price']>0) - 1*(data['d_price']<0)\n",
    "data = data.dropna() # drop the first 6 rows (with some nan features) and the last row (with nan 'd_price')\n",
    "data = data.drop(['mid_price', 'd_price'], axis=1)\n",
    "\n",
    "data = data.reset_index()\n",
    "data = data.drop(['index'], axis=1)"
   ]
  },
  {
   "cell_type": "code",
   "execution_count": 3,
   "metadata": {},
   "outputs": [
    {
     "name": "stdout",
     "output_type": "stream",
     "text": [
      "(581023, 65)\n"
     ]
    },
    {
     "data": {
      "text/html": [
       "<div>\n",
       "<style scoped>\n",
       "    .dataframe tbody tr th:only-of-type {\n",
       "        vertical-align: middle;\n",
       "    }\n",
       "\n",
       "    .dataframe tbody tr th {\n",
       "        vertical-align: top;\n",
       "    }\n",
       "\n",
       "    .dataframe thead th {\n",
       "        text-align: right;\n",
       "    }\n",
       "</style>\n",
       "<table border=\"1\" class=\"dataframe\">\n",
       "  <thead>\n",
       "    <tr style=\"text-align: right;\">\n",
       "      <th></th>\n",
       "      <th>ask_price_1</th>\n",
       "      <th>ask_vol_1</th>\n",
       "      <th>bid_price_1</th>\n",
       "      <th>bid_vol_1</th>\n",
       "      <th>ask_price_2</th>\n",
       "      <th>ask_vol_2</th>\n",
       "      <th>bid_price_2</th>\n",
       "      <th>bid_vol_2</th>\n",
       "      <th>ask_price_3</th>\n",
       "      <th>ask_vol_3</th>\n",
       "      <th>...</th>\n",
       "      <th>rank_bid_vol_4</th>\n",
       "      <th>rank_ask_vol_4</th>\n",
       "      <th>rank_bid_vol_5</th>\n",
       "      <th>rank_ask_vol_5</th>\n",
       "      <th>corr_vol_1</th>\n",
       "      <th>corr_vol_2</th>\n",
       "      <th>corr_vol_3</th>\n",
       "      <th>corr_vol_4</th>\n",
       "      <th>corr_vol_5</th>\n",
       "      <th>label</th>\n",
       "    </tr>\n",
       "  </thead>\n",
       "  <tbody>\n",
       "    <tr>\n",
       "      <th>0</th>\n",
       "      <td>275200</td>\n",
       "      <td>166</td>\n",
       "      <td>275100</td>\n",
       "      <td>300</td>\n",
       "      <td>275300</td>\n",
       "      <td>1000</td>\n",
       "      <td>275000</td>\n",
       "      <td>100</td>\n",
       "      <td>275400</td>\n",
       "      <td>373</td>\n",
       "      <td>...</td>\n",
       "      <td>1.0</td>\n",
       "      <td>1.0</td>\n",
       "      <td>0.714286</td>\n",
       "      <td>1.0</td>\n",
       "      <td>-0.353553</td>\n",
       "      <td>-1.0</td>\n",
       "      <td>-1.0</td>\n",
       "      <td>-1.0</td>\n",
       "      <td>1.0</td>\n",
       "      <td>0</td>\n",
       "    </tr>\n",
       "    <tr>\n",
       "      <th>1</th>\n",
       "      <td>275200</td>\n",
       "      <td>166</td>\n",
       "      <td>275100</td>\n",
       "      <td>300</td>\n",
       "      <td>275300</td>\n",
       "      <td>1000</td>\n",
       "      <td>275000</td>\n",
       "      <td>100</td>\n",
       "      <td>275400</td>\n",
       "      <td>373</td>\n",
       "      <td>...</td>\n",
       "      <td>1.0</td>\n",
       "      <td>1.0</td>\n",
       "      <td>0.750000</td>\n",
       "      <td>1.0</td>\n",
       "      <td>-0.377964</td>\n",
       "      <td>-1.0</td>\n",
       "      <td>-1.0</td>\n",
       "      <td>-1.0</td>\n",
       "      <td>1.0</td>\n",
       "      <td>0</td>\n",
       "    </tr>\n",
       "    <tr>\n",
       "      <th>2</th>\n",
       "      <td>275200</td>\n",
       "      <td>166</td>\n",
       "      <td>275100</td>\n",
       "      <td>300</td>\n",
       "      <td>275300</td>\n",
       "      <td>1000</td>\n",
       "      <td>275000</td>\n",
       "      <td>100</td>\n",
       "      <td>275400</td>\n",
       "      <td>373</td>\n",
       "      <td>...</td>\n",
       "      <td>1.0</td>\n",
       "      <td>1.0</td>\n",
       "      <td>1.000000</td>\n",
       "      <td>1.0</td>\n",
       "      <td>-0.395285</td>\n",
       "      <td>-1.0</td>\n",
       "      <td>-1.0</td>\n",
       "      <td>-1.0</td>\n",
       "      <td>1.0</td>\n",
       "      <td>0</td>\n",
       "    </tr>\n",
       "    <tr>\n",
       "      <th>3</th>\n",
       "      <td>275200</td>\n",
       "      <td>166</td>\n",
       "      <td>275100</td>\n",
       "      <td>300</td>\n",
       "      <td>275300</td>\n",
       "      <td>1000</td>\n",
       "      <td>275000</td>\n",
       "      <td>300</td>\n",
       "      <td>275400</td>\n",
       "      <td>373</td>\n",
       "      <td>...</td>\n",
       "      <td>1.0</td>\n",
       "      <td>1.0</td>\n",
       "      <td>1.000000</td>\n",
       "      <td>1.0</td>\n",
       "      <td>-0.408248</td>\n",
       "      <td>-1.0</td>\n",
       "      <td>-1.0</td>\n",
       "      <td>-1.0</td>\n",
       "      <td>1.0</td>\n",
       "      <td>0</td>\n",
       "    </tr>\n",
       "    <tr>\n",
       "      <th>4</th>\n",
       "      <td>275200</td>\n",
       "      <td>100</td>\n",
       "      <td>275100</td>\n",
       "      <td>300</td>\n",
       "      <td>275300</td>\n",
       "      <td>1000</td>\n",
       "      <td>275000</td>\n",
       "      <td>300</td>\n",
       "      <td>275400</td>\n",
       "      <td>373</td>\n",
       "      <td>...</td>\n",
       "      <td>1.0</td>\n",
       "      <td>1.0</td>\n",
       "      <td>1.000000</td>\n",
       "      <td>1.0</td>\n",
       "      <td>-0.228210</td>\n",
       "      <td>1.0</td>\n",
       "      <td>-1.0</td>\n",
       "      <td>1.0</td>\n",
       "      <td>1.0</td>\n",
       "      <td>1</td>\n",
       "    </tr>\n",
       "  </tbody>\n",
       "</table>\n",
       "<p>5 rows × 65 columns</p>\n",
       "</div>"
      ],
      "text/plain": [
       "   ask_price_1  ask_vol_1  bid_price_1  bid_vol_1  ask_price_2  ask_vol_2  \\\n",
       "0       275200        166       275100        300       275300       1000   \n",
       "1       275200        166       275100        300       275300       1000   \n",
       "2       275200        166       275100        300       275300       1000   \n",
       "3       275200        166       275100        300       275300       1000   \n",
       "4       275200        100       275100        300       275300       1000   \n",
       "\n",
       "   bid_price_2  bid_vol_2  ask_price_3  ask_vol_3  ...    rank_bid_vol_4  \\\n",
       "0       275000        100       275400        373  ...               1.0   \n",
       "1       275000        100       275400        373  ...               1.0   \n",
       "2       275000        100       275400        373  ...               1.0   \n",
       "3       275000        300       275400        373  ...               1.0   \n",
       "4       275000        300       275400        373  ...               1.0   \n",
       "\n",
       "   rank_ask_vol_4  rank_bid_vol_5  rank_ask_vol_5  corr_vol_1  corr_vol_2  \\\n",
       "0             1.0        0.714286             1.0   -0.353553        -1.0   \n",
       "1             1.0        0.750000             1.0   -0.377964        -1.0   \n",
       "2             1.0        1.000000             1.0   -0.395285        -1.0   \n",
       "3             1.0        1.000000             1.0   -0.408248        -1.0   \n",
       "4             1.0        1.000000             1.0   -0.228210         1.0   \n",
       "\n",
       "   corr_vol_3  corr_vol_4  corr_vol_5  label  \n",
       "0        -1.0        -1.0         1.0      0  \n",
       "1        -1.0        -1.0         1.0      0  \n",
       "2        -1.0        -1.0         1.0      0  \n",
       "3        -1.0        -1.0         1.0      0  \n",
       "4        -1.0         1.0         1.0      1  \n",
       "\n",
       "[5 rows x 65 columns]"
      ]
     },
     "execution_count": 3,
     "metadata": {},
     "output_type": "execute_result"
    }
   ],
   "source": [
    "print(data.shape)\n",
    "data.head()"
   ]
  },
  {
   "cell_type": "code",
   "execution_count": 4,
   "metadata": {},
   "outputs": [],
   "source": [
    "train_weight = 0.6\n",
    "split = int(data.shape[0] * train_weight)\n",
    "df_train = data[:split]\n",
    "df_test = data[split:]\n",
    "\n",
    "nrow = int(len(df_test)/2)\n",
    "df_valid = df_test[0:nrow]\n",
    "df_test = df_test[nrow:]\n",
    "\n",
    "x_train = df_train.iloc[:,:-1].values\n",
    "y_train = df_train.iloc[:,-1].values\n",
    "train_index = (y_train!=0)\n",
    "x_train = x_train[train_index]\n",
    "y_train = y_train[train_index]\n",
    "\n",
    "x_valid = df_valid.iloc[:,:-1].values\n",
    "y_valid = df_valid.iloc[:,-1].values\n",
    "valid_index = (y_valid!=0)\n",
    "x_valid = x_valid[valid_index]\n",
    "y_valid = y_valid[valid_index]\n",
    "\n",
    "x_test = df_test.iloc[:,:-1].values\n",
    "y_test = df_test.iloc[:,-1].values\n",
    "test_index = (y_test!=0)\n",
    "x_test = x_test[test_index]\n",
    "y_test = y_test[test_index]\n",
    "\n",
    "x_all = data.iloc[:,:-1].values\n",
    "y_all = data.iloc[:,-1].values"
   ]
  },
  {
   "cell_type": "code",
   "execution_count": 5,
   "metadata": {},
   "outputs": [
    {
     "data": {
      "text/plain": [
       "array([-1,  1], dtype=int32)"
      ]
     },
     "execution_count": 5,
     "metadata": {},
     "output_type": "execute_result"
    }
   ],
   "source": [
    "np.unique(y_train)"
   ]
  },
  {
   "cell_type": "code",
   "execution_count": 6,
   "metadata": {},
   "outputs": [],
   "source": [
    "#normalization (to make sure the autoencoder is converging)\n",
    "x_max = np.max(x_train,axis=0)\n",
    "x_min = np.min(x_train,axis=0)\n",
    "x_train = (x_train - x_min) / (x_max - x_min)\n",
    "x_valid = (x_valid - x_min) / (x_max - x_min)\n",
    "x_test = (x_test - x_min) / (x_max - x_min)\n",
    "x_all = (x_all - x_min) / (x_max - x_min)"
   ]
  },
  {
   "cell_type": "code",
   "execution_count": 7,
   "metadata": {},
   "outputs": [
    {
     "name": "stdout",
     "output_type": "stream",
     "text": [
      "(2311, 64) (425, 64) (481, 64) (581023, 64)\n"
     ]
    }
   ],
   "source": [
    "print(x_train.shape, x_valid.shape, x_test.shape, x_all.shape)"
   ]
  },
  {
   "cell_type": "markdown",
   "metadata": {
    "ExecuteTime": {
     "end_time": "2018-10-02T12:44:09.131674Z",
     "start_time": "2018-10-02T12:44:09.129175Z"
    }
   },
   "source": [
    "# Main Function - Performing SVM and Extracting Features"
   ]
  },
  {
   "cell_type": "code",
   "execution_count": 8,
   "metadata": {},
   "outputs": [
    {
     "name": "stdout",
     "output_type": "stream",
     "text": [
      "Performing SVM\n"
     ]
    },
    {
     "name": "stderr",
     "output_type": "stream",
     "text": [
      "C:\\Users\\yelin0618\\Anaconda3\\lib\\site-packages\\sklearn\\svm\\base.py:922: ConvergenceWarning: Liblinear failed to converge, increase the number of iterations.\n",
      "  \"the number of iterations.\", ConvergenceWarning)\n",
      "C:\\Users\\yelin0618\\Anaconda3\\lib\\site-packages\\sklearn\\svm\\base.py:922: ConvergenceWarning: Liblinear failed to converge, increase the number of iterations.\n",
      "  \"the number of iterations.\", ConvergenceWarning)\n",
      "C:\\Users\\yelin0618\\Anaconda3\\lib\\site-packages\\sklearn\\svm\\base.py:922: ConvergenceWarning: Liblinear failed to converge, increase the number of iterations.\n",
      "  \"the number of iterations.\", ConvergenceWarning)\n",
      "C:\\Users\\yelin0618\\Anaconda3\\lib\\site-packages\\sklearn\\svm\\base.py:922: ConvergenceWarning: Liblinear failed to converge, increase the number of iterations.\n",
      "  \"the number of iterations.\", ConvergenceWarning)\n",
      "C:\\Users\\yelin0618\\Anaconda3\\lib\\site-packages\\sklearn\\svm\\base.py:922: ConvergenceWarning: Liblinear failed to converge, increase the number of iterations.\n",
      "  \"the number of iterations.\", ConvergenceWarning)\n",
      "C:\\Users\\yelin0618\\Anaconda3\\lib\\site-packages\\sklearn\\svm\\base.py:922: ConvergenceWarning: Liblinear failed to converge, increase the number of iterations.\n",
      "  \"the number of iterations.\", ConvergenceWarning)\n",
      "C:\\Users\\yelin0618\\Anaconda3\\lib\\site-packages\\sklearn\\svm\\base.py:922: ConvergenceWarning: Liblinear failed to converge, increase the number of iterations.\n",
      "  \"the number of iterations.\", ConvergenceWarning)\n",
      "C:\\Users\\yelin0618\\Anaconda3\\lib\\site-packages\\sklearn\\svm\\base.py:922: ConvergenceWarning: Liblinear failed to converge, increase the number of iterations.\n",
      "  \"the number of iterations.\", ConvergenceWarning)\n",
      "C:\\Users\\yelin0618\\Anaconda3\\lib\\site-packages\\sklearn\\svm\\base.py:922: ConvergenceWarning: Liblinear failed to converge, increase the number of iterations.\n",
      "  \"the number of iterations.\", ConvergenceWarning)\n",
      "C:\\Users\\yelin0618\\Anaconda3\\lib\\site-packages\\sklearn\\svm\\base.py:922: ConvergenceWarning: Liblinear failed to converge, increase the number of iterations.\n",
      "  \"the number of iterations.\", ConvergenceWarning)\n"
     ]
    }
   ],
   "source": [
    "if __name__ == '__main__':\n",
    "\n",
    "    #feel free to change with your own\n",
    "    #new_features_resultpath = '/Users/meihuaren/personal/OR_2018fall/Courses/E4720 Deep Learning/project_coding/Team E_code/'\n",
    "    new_features_resultpath = 'F:/Columbia OR/IEORE4720 Deep Learning/Course Project/Data/'\n",
    "    #=====================================\n",
    "    \n",
    "    ### Random Feature Mapping\n",
    "    \n",
    "    n = x_train.shape[1]    \n",
    "    m = int(n*np.log2(n)) # choose the dimensionality of the random feature map as n*logn\n",
    "    \n",
    "    np.random.seed(0) #set seed for replication purpose    \n",
    "    G = np.random.normal(size=(m,n)) #sampling an independent m*n normal distributed variables\n",
    "    \n",
    "    X_train = 1 / np.sqrt(m) * np.sign(x_train @ G.T)  #perform random feature mapping for angular kernel\n",
    "    X_valid = 1 / np.sqrt(m) * np.sign(x_valid @ G.T)\n",
    "    X_test = 1 / np.sqrt(m) * np.sign(x_test @ G.T)\n",
    "    \n",
    "    ### SVM\n",
    "    print ('Performing SVM')\n",
    "    \n",
    "    C_array = 10.0**(np.arange(-10,10))    \n",
    "    train_acc_array = []\n",
    "    valid_acc_array = []\n",
    "    clf_array = []\n",
    "    \n",
    "    for c in C_array:   \n",
    "        \n",
    "        clf = LinearSVC(penalty='l1', loss='squared_hinge', dual=False, C=c, max_iter=1000)\n",
    "        clf.fit(X_train, y_train)\n",
    "        clf_array.append(clf)\n",
    "        \n",
    "        train_acc = clf.score(X_train, y_train)\n",
    "        train_acc_array.append(train_acc)\n",
    "        valid_acc = clf.score(X_test, y_test)\n",
    "        valid_acc_array.append(valid_acc)\n",
    "    \n",
    "    clf = clf_array[np.argmax(valid_acc_array)]\n",
    "    \n",
    "    # select features with non-zero weights\n",
    "    selected_columns = (clf.coef_!=0).reshape(-1)\n",
    "    \n",
    "    # contruct final features\n",
    "    X_all = 1 / np.sqrt(m) * np.sign(x_all @ G.T)\n",
    "    svm_features = X_all[:,selected_columns]\n",
    "    svm_features_df = pd.DataFrame(svm_features)\n",
    "    features64_new_svm = pd.concat([svm_features_df,data.iloc[:,-1]],axis = 1)\n",
    "    filename = new_features_resultpath + 'features64_new_svm.csv'\n",
    "    features64_new_svm.to_csv(filename, index=False)   \n",
    "    "
   ]
  }
 ],
 "metadata": {
  "kernelspec": {
   "display_name": "Python [default]",
   "language": "python",
   "name": "python3"
  },
  "language_info": {
   "codemirror_mode": {
    "name": "ipython",
    "version": 3
   },
   "file_extension": ".py",
   "mimetype": "text/x-python",
   "name": "python",
   "nbconvert_exporter": "python",
   "pygments_lexer": "ipython3",
   "version": "3.6.7"
  },
  "toc": {
   "nav_menu": {},
   "number_sections": true,
   "sideBar": true,
   "skip_h1_title": false,
   "title_cell": "Table of Contents",
   "title_sidebar": "Contents",
   "toc_cell": false,
   "toc_position": {},
   "toc_section_display": true,
   "toc_window_display": false
  },
  "varInspector": {
   "cols": {
    "lenName": 16,
    "lenType": 16,
    "lenVar": 40
   },
   "kernels_config": {
    "python": {
     "delete_cmd_postfix": "",
     "delete_cmd_prefix": "del ",
     "library": "var_list.py",
     "varRefreshCmd": "print(var_dic_list())"
    },
    "r": {
     "delete_cmd_postfix": ") ",
     "delete_cmd_prefix": "rm(",
     "library": "var_list.r",
     "varRefreshCmd": "cat(var_dic_list()) "
    }
   },
   "types_to_exclude": [
    "module",
    "function",
    "builtin_function_or_method",
    "instance",
    "_Feature"
   ],
   "window_display": false
  }
 },
 "nbformat": 4,
 "nbformat_minor": 2
}
